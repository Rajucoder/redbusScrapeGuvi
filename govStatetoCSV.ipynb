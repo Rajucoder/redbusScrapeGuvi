{
 "cells": [
  {
   "cell_type": "code",
   "execution_count": 18,
   "id": "a4c8f7b7-c793-41f3-aa9f-88d691c7e6ba",
   "metadata": {},
   "outputs": [
    {
     "name": "stdout",
     "output_type": "stream",
     "text": [
      "Collecting selenium\n",
      "  Downloading selenium-4.23.1-py3-none-any.whl.metadata (7.1 kB)\n",
      "Requirement already satisfied: urllib3<3,>=1.26 in /opt/anaconda3/lib/python3.12/site-packages (from urllib3[socks]<3,>=1.26->selenium) (2.2.2)\n",
      "Collecting trio~=0.17 (from selenium)\n",
      "  Downloading trio-0.26.2-py3-none-any.whl.metadata (8.6 kB)\n",
      "Collecting trio-websocket~=0.9 (from selenium)\n",
      "  Downloading trio_websocket-0.11.1-py3-none-any.whl.metadata (4.7 kB)\n",
      "Requirement already satisfied: certifi>=2021.10.8 in /opt/anaconda3/lib/python3.12/site-packages (from selenium) (2024.7.4)\n",
      "Requirement already satisfied: typing_extensions~=4.9 in /opt/anaconda3/lib/python3.12/site-packages (from selenium) (4.11.0)\n",
      "Requirement already satisfied: websocket-client~=1.8 in /opt/anaconda3/lib/python3.12/site-packages (from selenium) (1.8.0)\n",
      "Collecting attrs>=23.2.0 (from trio~=0.17->selenium)\n",
      "  Downloading attrs-24.2.0-py3-none-any.whl.metadata (11 kB)\n",
      "Requirement already satisfied: sortedcontainers in /opt/anaconda3/lib/python3.12/site-packages (from trio~=0.17->selenium) (2.4.0)\n",
      "Requirement already satisfied: idna in /opt/anaconda3/lib/python3.12/site-packages (from trio~=0.17->selenium) (3.7)\n",
      "Collecting outcome (from trio~=0.17->selenium)\n",
      "  Downloading outcome-1.3.0.post0-py2.py3-none-any.whl.metadata (2.6 kB)\n",
      "Requirement already satisfied: sniffio>=1.3.0 in /opt/anaconda3/lib/python3.12/site-packages (from trio~=0.17->selenium) (1.3.0)\n",
      "Collecting wsproto>=0.14 (from trio-websocket~=0.9->selenium)\n",
      "  Downloading wsproto-1.2.0-py3-none-any.whl.metadata (5.6 kB)\n",
      "Requirement already satisfied: pysocks!=1.5.7,<2.0,>=1.5.6 in /opt/anaconda3/lib/python3.12/site-packages (from urllib3[socks]<3,>=1.26->selenium) (1.7.1)\n",
      "Requirement already satisfied: h11<1,>=0.9.0 in /opt/anaconda3/lib/python3.12/site-packages (from wsproto>=0.14->trio-websocket~=0.9->selenium) (0.14.0)\n",
      "Downloading selenium-4.23.1-py3-none-any.whl (9.4 MB)\n",
      "\u001b[2K   \u001b[90m━━━━━━━━━━━━━━━━━━━━━━━━━━━━━━━━━━━━━━━━\u001b[0m \u001b[32m9.4/9.4 MB\u001b[0m \u001b[31m4.8 MB/s\u001b[0m eta \u001b[36m0:00:00\u001b[0m00:01\u001b[0m00:01\u001b[0m\n",
      "\u001b[?25hDownloading trio-0.26.2-py3-none-any.whl (475 kB)\n",
      "\u001b[2K   \u001b[90m━━━━━━━━━━━━━━━━━━━━━━━━━━━━━━━━━━━━━━━━\u001b[0m \u001b[32m476.0/476.0 kB\u001b[0m \u001b[31m3.2 MB/s\u001b[0m eta \u001b[36m0:00:00\u001b[0m00:01\u001b[0m00:01\u001b[0m\n",
      "\u001b[?25hDownloading trio_websocket-0.11.1-py3-none-any.whl (17 kB)\n",
      "Downloading attrs-24.2.0-py3-none-any.whl (63 kB)\n",
      "\u001b[2K   \u001b[90m━━━━━━━━━━━━━━━━━━━━━━━━━━━━━━━━━━━━━━━━\u001b[0m \u001b[32m63.0/63.0 kB\u001b[0m \u001b[31m2.0 MB/s\u001b[0m eta \u001b[36m0:00:00\u001b[0m\n",
      "\u001b[?25hDownloading wsproto-1.2.0-py3-none-any.whl (24 kB)\n",
      "Downloading outcome-1.3.0.post0-py2.py3-none-any.whl (10 kB)\n",
      "Installing collected packages: wsproto, attrs, outcome, trio, trio-websocket, selenium\n",
      "  Attempting uninstall: attrs\n",
      "    Found existing installation: attrs 23.1.0\n",
      "    Uninstalling attrs-23.1.0:\n",
      "      Successfully uninstalled attrs-23.1.0\n",
      "Successfully installed attrs-24.2.0 outcome-1.3.0.post0 selenium-4.23.1 trio-0.26.2 trio-websocket-0.11.1 wsproto-1.2.0\n",
      "Note: you may need to restart the kernel to use updated packages.\n"
     ]
    }
   ],
   "source": [
    "pip install selenium"
   ]
  },
  {
   "cell_type": "code",
   "execution_count": 28,
   "id": "978d4313-5e04-4227-9f0e-e4c7935d5a53",
   "metadata": {},
   "outputs": [
    {
     "name": "stdout",
     "output_type": "stream",
     "text": [
      "Requirement already satisfied: beautifulsoup4 in /opt/anaconda3/lib/python3.12/site-packages (4.12.3)\n",
      "Requirement already satisfied: soupsieve>1.2 in /opt/anaconda3/lib/python3.12/site-packages (from beautifulsoup4) (2.5)\n",
      "Note: you may need to restart the kernel to use updated packages.\n"
     ]
    }
   ],
   "source": [
    "pip install beautifulsoup4"
   ]
  },
  {
   "cell_type": "markdown",
   "id": "536d68ba-7259-4c64-acb5-86873065b318",
   "metadata": {},
   "source": [
    "# All State Link"
   ]
  },
  {
   "cell_type": "code",
   "execution_count": 4,
   "id": "0577c6ee-8179-464b-88dd-e0347ec34173",
   "metadata": {},
   "outputs": [],
   "source": [
    "state_links = [\"https://www.redbus.in/online-booking/chandigarh-transport-undertaking-ctu\",\n",
    "               \"https://www.redbus.in/online-booking/uttar-pradesh-state-road-transport-corporation-upsrtc\",\n",
    "               \"https://www.redbus.in/online-booking/bihar-state-road-transport-corporation-bsrtc\",\n",
    "               \"https://www.redbus.in/online-booking/wbtc-ctc\",\n",
    "               \"https://www.redbus.in/online-booking/pepsu\",\n",
    "               \"https://www.redbus.in/online-booking/rsrtc\",\n",
    "               \"https://www.redbus.in/online-booking/hrtc\",\n",
    "               \"https://www.redbus.in/online-booking/astc\",\n",
    "               \"https://www.redbus.in/online-booking/sikkim-nationalised-transport-snt\",\n",
    "               \"https://www.redbus.in/online-booking/meghalaya-transport-corporation-mtc\"]"
   ]
  },
  {
   "cell_type": "code",
   "execution_count": 6,
   "id": "1bfb0e3b-ccec-4759-bd44-3889078d36da",
   "metadata": {},
   "outputs": [],
   "source": [
    "from selenium.webdriver import ActionChains\n",
    "from selenium.webdriver.common.action_chains import ActionChains\n",
    "\n",
    "def clickPaginationButton(driver, element):\n",
    "    action = ActionChains(driver)\n",
    "    action.click_and_hold(element)\n",
    "    action.perform()\n",
    "    time.sleep(1)\n",
    "    action.release(element)\n",
    "    action.perform()\n",
    "    time.sleep(2)"
   ]
  },
  {
   "cell_type": "code",
   "execution_count": 131,
   "id": "754c09e6-d56d-4a8b-b93e-865aace7fb2b",
   "metadata": {},
   "outputs": [],
   "source": [
    "import csv\n",
    "def store_csv(routes_detail, csv_file_name):\n",
    "    field = ['route_link', 'route']\n",
    "    with open(csv_file_name, 'w') as file:\n",
    "        writer = csv.writer(file)\n",
    "        writer.writerow(field)\n",
    "        writer.writerows(routes_detail)"
   ]
  },
  {
   "cell_type": "markdown",
   "id": "c903a484-53a5-4ced-9b84-d751bb7d6122",
   "metadata": {},
   "source": [
    "# Chandigarh"
   ]
  },
  {
   "cell_type": "code",
   "execution_count": 154,
   "id": "387278e0-5ba1-4bd1-8a4c-7547bad21f89",
   "metadata": {},
   "outputs": [
    {
     "name": "stdout",
     "output_type": "stream",
     "text": [
      "[['https://www.redbus.in/bus-tickets/chandigarh-to-delhi', 'Chandigarh to Delhi'], ['https://www.redbus.in/bus-tickets/delhi-to-chandigarh', 'Delhi to Chandigarh'], ['https://www.redbus.in/bus-tickets/yamuna-nagar-to-chandigarh', 'Yamuna Nagar to Chandigarh'], ['https://www.redbus.in/bus-tickets/chandigarh-to-shimla', 'Chandigarh to Shimla'], ['https://www.redbus.in/bus-tickets/chandigarh-to-vrindavan', 'Chandigarh to Vrindavan'], ['https://www.redbus.in/bus-tickets/chandigarh-to-yamuna-nagar', 'Chandigarh to Yamuna Nagar'], ['https://www.redbus.in/bus-tickets/chandigarh-to-sujanpur', 'Chandigarh to Sujanpur (himachal pradesh)'], ['https://www.redbus.in/bus-tickets/ludhiana-to-chandigarh', 'Ludhiana to Chandigarh'], ['https://www.redbus.in/bus-tickets/hamirpur-himachal-pradesh-to-chandigarh', 'Hamirpur (Himachal Pradesh) to Chandigarh'], ['https://www.redbus.in/bus-tickets/vrindavan-to-chandigarh', 'Vrindavan to Chandigarh'], ['https://www.redbus.in/bus-tickets/chandigarh-to-hamirpur-himachal-pradesh', 'Chandigarh to Hamirpur (Himachal Pradesh)'], ['https://www.redbus.in/bus-tickets/sujanpur-to-chandigarh', 'Sujanpur (himachal pradesh) to Chandigarh'], ['https://www.redbus.in/bus-tickets/shimla-to-chandigarh', 'Shimla to Chandigarh'], ['https://www.redbus.in/bus-tickets/chandigarh-to-ludhiana', 'Chandigarh to Ludhiana'], ['https://www.redbus.in/bus-tickets/chandigarh-to-dharamshala', 'Chandigarh to Dharamshala (Himachal Pradesh)'], ['https://www.redbus.in/bus-tickets/chandigarh-to-dehradun', 'Chandigarh to Dehradun'], ['https://www.redbus.in/bus-tickets/chandigarh-to-baijnath', 'Chandigarh to Baijnath'], ['https://www.redbus.in/bus-tickets/pathankot-to-chandigarh', 'Pathankot to Chandigarh'], ['https://www.redbus.in/bus-tickets/chandigarh-to-haridwar', 'Chandigarh to Haridwar'], ['https://www.redbus.in/bus-tickets/chandigarh-to-pathankot', 'Chandigarh to Pathankot'], ['https://www.redbus.in/bus-tickets/talwara-to-chandigarh', 'Talwara to Chandigarh'], ['https://www.redbus.in/bus-tickets/dehradun-to-chandigarh', 'Dehradun to Chandigarh'], ['https://www.redbus.in/bus-tickets/amritsar-to-chandigarh', 'Amritsar to Chandigarh'], ['https://www.redbus.in/bus-tickets/chandigarh-to-rishikesh', 'Chandigarh to Rishikesh'], ['https://www.redbus.in/bus-tickets/chandigarh-to-talwara', 'Chandigarh to Talwara'], ['https://www.redbus.in/bus-tickets/chandigarh-to-dinanagar-punjab', 'Chandigarh to Dinanagar (punjab)'], ['https://www.redbus.in/bus-tickets/dinanagar-punjab-to-chandigarh', 'Dinanagar (punjab) to Chandigarh'], ['https://www.redbus.in/bus-tickets/rishikesh-to-chandigarh', 'Rishikesh to Chandigarh'], ['https://www.redbus.in/bus-tickets/chandigarh-to-amritsar', 'Chandigarh to Amritsar'], ['https://www.redbus.in/bus-tickets/chandigarh-to-agra', 'Chandigarh to Agra'], ['https://www.redbus.in/bus-tickets/dharamshala-to-chandigarh', 'Dharamshala (Himachal Pradesh) to Chandigarh'], ['https://www.redbus.in/bus-tickets/chandigarh-to-katra', 'Chandigarh to Katra (jammu and kashmir)'], ['https://www.redbus.in/bus-tickets/hisar-haryana-to-chandigarh', 'Hisar (Haryana) to Chandigarh'], ['https://www.redbus.in/bus-tickets/rohtak-to-chandigarh', 'Rohtak to Chandigarh'], ['https://www.redbus.in/bus-tickets/chandigarh-to-una', 'Chandigarh to Una (Himachal Pradesh)'], ['https://www.redbus.in/bus-tickets/chandigarh-to-jammu', 'Chandigarh to Jammu (j and k)'], ['https://www.redbus.in/bus-tickets/chandigarh-to-rohtak', 'Chandigarh to Rohtak'], ['https://www.redbus.in/bus-tickets/chandigarh-to-manali', 'Chandigarh to Manali'], ['https://www.redbus.in/bus-tickets/chandigarh-to-haldwani', 'Chandigarh to Haldwani'], ['https://www.redbus.in/bus-tickets/jawala-ji-to-chandigarh', 'Jawala Ji to Chandigarh'], ['https://www.redbus.in/bus-tickets/agra-to-chandigarh', 'Agra to Chandigarh'], ['https://www.redbus.in/bus-tickets/jammu-to-chandigarh', 'Jammu (j and k) to Chandigarh'], ['https://www.redbus.in/bus-tickets/chandigarh-to-hisar-haryana', 'Chandigarh to Hisar (Haryana)'], ['https://www.redbus.in/bus-tickets/chandigarh-to-kathgodam', 'Chandigarh to Kathgodam'], ['https://www.redbus.in/bus-tickets/haridwar-to-chandigarh', 'Haridwar to Chandigarh'], ['https://www.redbus.in/bus-tickets/katra-to-chandigarh', 'Katra (jammu and kashmir) to Chandigarh'], ['https://www.redbus.in/bus-tickets/baijnath-to-chandigarh', 'Baijnath to Chandigarh'], ['https://www.redbus.in/bus-tickets/narnaul-to-chandigarh', 'Narnaul to Chandigarh'], ['https://www.redbus.in/bus-tickets/chandigarh-to-jawala-ji', 'Chandigarh to Jawala Ji']]\n",
      "49\n"
     ]
    }
   ],
   "source": [
    "from selenium import webdriver\n",
    "from bs4 import BeautifulSoup\n",
    "from selenium.webdriver.common.by import By\n",
    "import time\n",
    "from selenium.webdriver.support.ui import WebDriverWait\n",
    "from selenium.webdriver.support import expected_conditions as EC\n",
    "\n",
    "Host = \"https://www.redbus.in\"\n",
    "#Parsing html page\n",
    "driver = webdriver.Chrome()  # or webdriver.Firefox()\n",
    "driver.get(state_links[0])\n",
    "page_source = driver.page_source\n",
    "soup = BeautifulSoup(page_source,features=\"html.parser\")\n",
    "\n",
    "#Handle Pagination\n",
    "route_link = []\n",
    "routes = []\n",
    "routes_detail = []\n",
    "for val in range(1,len(soup.body.find_all(\"div\", {\"class\" : \"DC_117_pageTabs\"}))):\n",
    "    #Get Route detail and route link\n",
    "    page_source = driver.page_source\n",
    "    soup = BeautifulSoup(page_source,features=\"html.parser\")\n",
    "    for EachPart in soup.body.find_all(\"a\", {\"class\" : \"route\"}):\n",
    "        if Host+EachPart['href'] not in route_link:\n",
    "            route_link.append(Host+EachPart['href'])\n",
    "            routes.append(EachPart.get_text())\n",
    "            routes_detail.append([Host+EachPart['href'], EachPart.get_text()])\n",
    "\n",
    "    pagination = WebDriverWait(driver, 20).until(EC.element_to_be_clickable((By.XPATH, '//*[@class=\"DC_117_paginationTable\"]' )))\n",
    "    next_button = pagination.find_element(By.XPATH, f'//div[@class=\"DC_117_pageTabs \" and text()={val + 1}]')\n",
    "    time.sleep(2)\n",
    "    clickPaginationButton(driver, next_button)\n",
    "\n",
    "    if(val +1 == len(soup.body.find_all(\"div\", {\"class\" : \"DC_117_pageTabs\"}))):\n",
    "        page_source = driver.page_source\n",
    "        soup = BeautifulSoup(page_source,features=\"html.parser\")\n",
    "        for EachPart in soup.body.find_all(\"a\", {\"class\" : \"route\"}):\n",
    "            if Host+EachPart['href'] not in route_link:\n",
    "                route_link.append(Host+EachPart['href'])\n",
    "                routes.append(EachPart.get_text())\n",
    "                routes_detail.append([Host+EachPart['href'], EachPart.get_text()])\n",
    "print(routes_detail)\n",
    "print(len(routes))\n",
    "\n",
    "driver.quit()\n",
    "\n",
    "# Convert Chandigrarh routes_details to csv file\n",
    "store_csv(routes_detail, 'CH_routes_detail.csv')"
   ]
  },
  {
   "cell_type": "markdown",
   "id": "021d645e-5b7b-4d70-8f7a-2d8e43c2a560",
   "metadata": {},
   "source": [
    "# UP"
   ]
  },
  {
   "cell_type": "code",
   "execution_count": 134,
   "id": "77c8698c-0137-4a9f-8c48-c272feed5e2d",
   "metadata": {},
   "outputs": [
    {
     "name": "stdout",
     "output_type": "stream",
     "text": [
      "[['https://www.redbus.in/bus-tickets/bareilly-to-delhi', 'Bareilly to Delhi'], ['https://www.redbus.in/bus-tickets/aligarh-uttar-pradesh-to-delhi', 'Aligarh (uttar pradesh) to Delhi'], ['https://www.redbus.in/bus-tickets/delhi-to-bareilly', 'Delhi to Bareilly'], ['https://www.redbus.in/bus-tickets/delhi-to-aligarh-uttar-pradesh', 'Delhi to Aligarh (uttar pradesh)'], ['https://www.redbus.in/bus-tickets/farrukhabad-up-to-delhi', 'Farrukhabad (Uttar Pradesh) to Delhi'], ['https://www.redbus.in/bus-tickets/badaun-to-delhi', 'Badaun to Delhi'], ['https://www.redbus.in/bus-tickets/lucknow-to-allahabad', 'Lucknow to Allahabad'], ['https://www.redbus.in/bus-tickets/lucknow-to-varanasi', 'Lucknow to Varanasi'], ['https://www.redbus.in/bus-tickets/delhi-to-badaun', 'Delhi to Badaun'], ['https://www.redbus.in/bus-tickets/agra-to-bareilly', 'Agra to Bareilly'], ['https://www.redbus.in/bus-tickets/allahabad-to-lucknow', 'Allahabad to Lucknow'], ['https://www.redbus.in/bus-tickets/sitapur-to-delhi', 'Sitapur (Uttar Pradesh) to Delhi'], ['https://www.redbus.in/bus-tickets/delhi-to-farrukhabad-up', 'Delhi to Farrukhabad (Uttar Pradesh)'], ['https://www.redbus.in/bus-tickets/moradabad-to-delhi', 'Moradabad to Delhi'], ['https://www.redbus.in/bus-tickets/delhi-to-haridwar', 'Delhi to Haridwar'], ['https://www.redbus.in/bus-tickets/delhi-to-sitapur', 'Delhi to Sitapur (Uttar Pradesh)'], ['https://www.redbus.in/bus-tickets/bareilly-to-agra', 'Bareilly to Agra'], ['https://www.redbus.in/bus-tickets/agra-to-lucknow', 'Agra to Lucknow'], ['https://www.redbus.in/bus-tickets/kanpur-to-jhansi', 'Kanpur (Uttar Pradesh) to Jhansi'], ['https://www.redbus.in/bus-tickets/lucknow-to-agra', 'Lucknow to Agra'], ['https://www.redbus.in/bus-tickets/varanasi-to-lucknow', 'Varanasi to Lucknow'], ['https://www.redbus.in/bus-tickets/bareilly-to-haridwar', 'Bareilly to Haridwar'], ['https://www.redbus.in/bus-tickets/delhi-to-agra', 'Delhi to Agra'], ['https://www.redbus.in/bus-tickets/delhi-to-shahjahanpur', 'Delhi to Shahjahanpur (Uttar Pradesh)'], ['https://www.redbus.in/bus-tickets/agra-to-delhi', 'Agra to Delhi'], ['https://www.redbus.in/bus-tickets/lucknow-to-ballia', 'Lucknow to Ballia'], ['https://www.redbus.in/bus-tickets/bareilly-to-dehradun', 'Bareilly to Dehradun'], ['https://www.redbus.in/bus-tickets/allahabad-to-azamgarh', 'Allahabad to Azamgarh'], ['https://www.redbus.in/bus-tickets/kanpur-to-bareilly', 'Kanpur (Uttar Pradesh) to Bareilly'], ['https://www.redbus.in/bus-tickets/lucknow-to-ayodhya', 'Lucknow to Ayodhya'], ['https://www.redbus.in/bus-tickets/aligarh-to-lucknow', 'Aligarh (uttar pradesh) to Lucknow'], ['https://www.redbus.in/bus-tickets/aligarh-to-agra', 'Aligarh (uttar pradesh) to Agra'], ['https://www.redbus.in/bus-tickets/lucknow-to-haridwar', 'Lucknow to Haridwar'], ['https://www.redbus.in/bus-tickets/lucknow-to-kanpur', 'Lucknow to Kanpur (Uttar Pradesh)'], ['https://www.redbus.in/bus-tickets/lucknow-to-aligarh', 'Lucknow to Aligarh (uttar pradesh)'], ['https://www.redbus.in/bus-tickets/delhi-to-etah-up', 'Delhi to Etah (Uttar Pradesh)'], ['https://www.redbus.in/bus-tickets/delhi-to-kotdwar', 'Delhi to Kotdwar (Uttarakhand)'], ['https://www.redbus.in/bus-tickets/allahabad-to-varanasi', 'Allahabad to Varanasi'], ['https://www.redbus.in/bus-tickets/delhi-to-moradabad', 'Delhi to Moradabad'], ['https://www.redbus.in/bus-tickets/varanasi-to-allahabad', 'Varanasi to Allahabad'], ['https://www.redbus.in/bus-tickets/lucknow-to-jaunpur', 'Lucknow to Jaunpur'], ['https://www.redbus.in/bus-tickets/aligarh-to-haridwar', 'Aligarh (uttar pradesh) to Haridwar'], ['https://www.redbus.in/bus-tickets/shahjahanpur-to-delhi', 'Shahjahanpur (Uttar Pradesh) to Delhi'], ['https://www.redbus.in/bus-tickets/lucknow-to-azamgarh', 'Lucknow to Azamgarh'], ['https://www.redbus.in/bus-tickets/jaunpur-to-lucknow', 'Jaunpur to Lucknow'], ['https://www.redbus.in/bus-tickets/kanpur-to-lucknow', 'Kanpur (Uttar Pradesh) to Lucknow'], ['https://www.redbus.in/bus-tickets/agra-to-haridwar', 'Agra to Haridwar'], ['https://www.redbus.in/bus-tickets/lucknow-to-gorakhpur', 'Lucknow to Gorakhpur (uttar pradesh)'], ['https://www.redbus.in/bus-tickets/delhi-to-haldwani', 'Delhi to Haldwani']]\n",
      "49\n"
     ]
    }
   ],
   "source": [
    "from selenium import webdriver\n",
    "from bs4 import BeautifulSoup\n",
    "from selenium.webdriver.common.by import By\n",
    "import time\n",
    "from selenium.webdriver.support.ui import WebDriverWait\n",
    "from selenium.webdriver.support import expected_conditions as EC\n",
    "\n",
    "Host = \"https://www.redbus.in\"\n",
    "#Parsing html page\n",
    "driver = webdriver.Chrome()  # or webdriver.Firefox()\n",
    "driver.get(state_links[1])\n",
    "page_source = driver.page_source\n",
    "soup = BeautifulSoup(page_source,features=\"html.parser\")\n",
    "\n",
    "#Handle Pagination\n",
    "route_link = []\n",
    "routes = []\n",
    "routes_detail = []\n",
    "for val in range(1,len(soup.body.find_all(\"div\", {\"class\" : \"DC_117_pageTabs\"}))):\n",
    "    #Get Route detail and route link\n",
    "    page_source = driver.page_source\n",
    "    soup = BeautifulSoup(page_source,features=\"html.parser\")\n",
    "    for EachPart in soup.body.find_all(\"a\", {\"class\" : \"route\"}):\n",
    "        if Host+EachPart['href'] not in route_link:\n",
    "            route_link.append(Host+EachPart['href'])\n",
    "            routes.append(EachPart.get_text())\n",
    "            routes_detail.append([Host+EachPart['href'], EachPart.get_text()])\n",
    "\n",
    "    pagination = WebDriverWait(driver, 20).until(EC.element_to_be_clickable((By.XPATH, '//*[@class=\"DC_117_paginationTable\"]' )))\n",
    "    next_button = pagination.find_element(By.XPATH, f'//div[@class=\"DC_117_pageTabs \" and text()={val + 1}]')\n",
    "    time.sleep(2)\n",
    "    clickPaginationButton(driver, next_button)\n",
    "\n",
    "    if(val +1 == len(soup.body.find_all(\"div\", {\"class\" : \"DC_117_pageTabs\"}))):\n",
    "        page_source = driver.page_source\n",
    "        soup = BeautifulSoup(page_source,features=\"html.parser\")\n",
    "        for EachPart in soup.body.find_all(\"a\", {\"class\" : \"route\"}):\n",
    "            if Host+EachPart['href'] not in route_link:\n",
    "                route_link.append(Host+EachPart['href'])\n",
    "                routes.append(EachPart.get_text())\n",
    "                routes_detail.append([Host+EachPart['href'], EachPart.get_text()])\n",
    "print(routes_detail)\n",
    "print(len(routes))\n",
    "\n",
    "driver.quit()\n",
    "\n",
    "# Convert Chandigrarh routes_details to csv file\n",
    "store_csv(routes_detail, 'UP_routes_detail.csv')"
   ]
  },
  {
   "cell_type": "markdown",
   "id": "6959c736-48cf-47c7-b60e-9dc7f86dacc3",
   "metadata": {},
   "source": [
    "# Bihar"
   ]
  },
  {
   "cell_type": "code",
   "execution_count": 135,
   "id": "79634612-1ced-47bc-80fe-22e0646769f4",
   "metadata": {},
   "outputs": [
    {
     "name": "stdout",
     "output_type": "stream",
     "text": [
      "[['https://www.redbus.in/bus-tickets/patna-to-bettiah', 'Patna (Bihar) to Bettiah'], ['https://www.redbus.in/bus-tickets/gopalganj-to-delhi', 'Gopalganj (Bihar) to Delhi'], ['https://www.redbus.in/bus-tickets/patna-to-motihari', 'Patna (Bihar) to Motihari'], ['https://www.redbus.in/bus-tickets/delhi-to-motihari', 'Delhi to Motihari'], ['https://www.redbus.in/bus-tickets/bettiah-to-patna', 'Bettiah to Patna (Bihar)'], ['https://www.redbus.in/bus-tickets/motihari-to-delhi', 'Motihari to Delhi'], ['https://www.redbus.in/bus-tickets/patna-to-balmiki-nagar-bihar', 'Patna (Bihar) to Balmiki Nagar (bihar)'], ['https://www.redbus.in/bus-tickets/balmiki-nagar-bihar-to-patna', 'Balmiki Nagar (bihar) to Patna (Bihar)'], ['https://www.redbus.in/bus-tickets/patna-to-kathmandu', 'Patna (Bihar) to Kathmandu'], ['https://www.redbus.in/bus-tickets/patna-to-katihar', 'Patna (Bihar) to Katihar'], ['https://www.redbus.in/bus-tickets/patna-to-purnea', 'Patna (Bihar) to Purnea'], ['https://www.redbus.in/bus-tickets/patna-to-hazaribagh', 'Patna (Bihar) to Hazaribagh'], ['https://www.redbus.in/bus-tickets/ranchi-to-patna', 'Ranchi to Patna (Bihar)'], ['https://www.redbus.in/bus-tickets/hazaribagh-to-patna', 'Hazaribagh to Patna (Bihar)'], ['https://www.redbus.in/bus-tickets/patna-to-raxaul', 'Patna (Bihar) to Raxaul'], ['https://www.redbus.in/bus-tickets/muzaffarpur-to-kathmandu', 'Muzaffarpur (Bihar) to Kathmandu'], ['https://www.redbus.in/bus-tickets/patna-to-ranchi', 'Patna (Bihar) to Ranchi'], ['https://www.redbus.in/bus-tickets/muzaffarpur-to-ranchi', 'Muzaffarpur (Bihar) to Ranchi'], ['https://www.redbus.in/bus-tickets/kathmandu-to-patna', 'Kathmandu to Patna (Bihar)'], ['https://www.redbus.in/bus-tickets/ranchi-to-muzaffarpur', 'Ranchi to Muzaffarpur (Bihar)'], ['https://www.redbus.in/bus-tickets/motihari-to-lucknow', 'Motihari to Lucknow'], ['https://www.redbus.in/bus-tickets/lucknow-to-motihari', 'Lucknow to Motihari'], ['https://www.redbus.in/bus-tickets/motihari-to-kathmandu', 'Motihari to Kathmandu'], ['https://www.redbus.in/bus-tickets/agra-to-motihari', 'Agra to Motihari'], ['https://www.redbus.in/bus-tickets/patna-to-janakpur-nepal', 'Patna (Bihar) to Janakpur (Nepal)'], ['https://www.redbus.in/bus-tickets/muzaffarpur-to-hazaribagh', 'Muzaffarpur (Bihar) to Hazaribagh'], ['https://www.redbus.in/bus-tickets/purnea-to-patna', 'Purnea to Patna (Bihar)'], ['https://www.redbus.in/bus-tickets/patna-to-araria', 'Patna (Bihar) to Araria (Bihar)'], ['https://www.redbus.in/bus-tickets/darbhanga-to-patna', 'Darbhanga to Patna (Bihar)'], ['https://www.redbus.in/bus-tickets/patna-to-saharsa', 'Patna (Bihar) to Saharsa'], ['https://www.redbus.in/bus-tickets/motihari-to-agra', 'Motihari to Agra'], ['https://www.redbus.in/bus-tickets/hajipur-to-kathmandu', 'Hajipur (Bihar) to Kathmandu'], ['https://www.redbus.in/bus-tickets/kathmandu-to-motihari', 'Kathmandu to Motihari'], ['https://www.redbus.in/bus-tickets/patna-to-forbesganj', 'Patna (Bihar) to Forbesganj'], ['https://www.redbus.in/bus-tickets/ranchi-to-hajipur', 'Ranchi to Hajipur (Bihar)'], ['https://www.redbus.in/bus-tickets/lucknow-to-gopalganj', 'Lucknow to Gopalganj (Bihar)']]\n",
      "36\n"
     ]
    }
   ],
   "source": [
    "from selenium import webdriver\n",
    "from bs4 import BeautifulSoup\n",
    "from selenium.webdriver.common.by import By\n",
    "import time\n",
    "from selenium.webdriver.support.ui import WebDriverWait\n",
    "from selenium.webdriver.support import expected_conditions as EC\n",
    "\n",
    "Host = \"https://www.redbus.in\"\n",
    "#Parsing html page\n",
    "driver = webdriver.Chrome()  # or webdriver.Firefox()\n",
    "driver.get(state_links[2])\n",
    "page_source = driver.page_source\n",
    "soup = BeautifulSoup(page_source,features=\"html.parser\")\n",
    "\n",
    "#Handle Pagination\n",
    "route_link = []\n",
    "routes = []\n",
    "routes_detail = []\n",
    "for val in range(1,len(soup.body.find_all(\"div\", {\"class\" : \"DC_117_pageTabs\"}))):\n",
    "    #Get Route detail and route link\n",
    "    page_source = driver.page_source\n",
    "    soup = BeautifulSoup(page_source,features=\"html.parser\")\n",
    "    for EachPart in soup.body.find_all(\"a\", {\"class\" : \"route\"}):\n",
    "        if Host+EachPart['href'] not in route_link:\n",
    "            route_link.append(Host+EachPart['href'])\n",
    "            routes.append(EachPart.get_text())\n",
    "            routes_detail.append([Host+EachPart['href'], EachPart.get_text()])\n",
    "\n",
    "    pagination = WebDriverWait(driver, 20).until(EC.element_to_be_clickable((By.XPATH, '//*[@class=\"DC_117_paginationTable\"]' )))\n",
    "    next_button = pagination.find_element(By.XPATH, f'//div[@class=\"DC_117_pageTabs \" and text()={val + 1}]')\n",
    "    time.sleep(2)\n",
    "    clickPaginationButton(driver, next_button)\n",
    "\n",
    "    if(val +1 == len(soup.body.find_all(\"div\", {\"class\" : \"DC_117_pageTabs\"}))):\n",
    "        page_source = driver.page_source\n",
    "        soup = BeautifulSoup(page_source,features=\"html.parser\")\n",
    "        for EachPart in soup.body.find_all(\"a\", {\"class\" : \"route\"}):\n",
    "            if Host+EachPart['href'] not in route_link:\n",
    "                route_link.append(Host+EachPart['href'])\n",
    "                routes.append(EachPart.get_text())\n",
    "                routes_detail.append([Host+EachPart['href'], EachPart.get_text()])\n",
    "print(routes_detail)\n",
    "print(len(routes))\n",
    "\n",
    "driver.quit()\n",
    "\n",
    "# Convert Chandigrarh routes_details to csv file\n",
    "store_csv(routes_detail, 'BH_routes_detail.csv')"
   ]
  },
  {
   "cell_type": "markdown",
   "id": "abaafb88-b759-43a4-8536-e3561d7d9eb0",
   "metadata": {},
   "source": [
    "# West Bengal"
   ]
  },
  {
   "cell_type": "code",
   "execution_count": 136,
   "id": "c7e9c64d-45a6-48d3-a824-4d414a234724",
   "metadata": {},
   "outputs": [
    {
     "name": "stdout",
     "output_type": "stream",
     "text": [
      "[['https://www.redbus.in/bus-tickets/durgapur-to-kolkata', 'Durgapur (West Bengal) to Kolkata'], ['https://www.redbus.in/bus-tickets/digha-to-barasat-west-bengal', 'Digha to Barasat (West Bengal)'], ['https://www.redbus.in/bus-tickets/barasat-west-bengal-to-digha', 'Barasat (West Bengal) to Digha'], ['https://www.redbus.in/bus-tickets/suri-to-kolkata', 'Suri to Kolkata'], ['https://www.redbus.in/bus-tickets/kolkata-to-digha', 'Kolkata to Digha'], ['https://www.redbus.in/bus-tickets/bolpur-west-bengal-to-kolkata', 'Bolpur (West Bengal) to Kolkata'], ['https://www.redbus.in/bus-tickets/kolkata-to-suri', 'Kolkata to Suri'], ['https://www.redbus.in/bus-tickets/digha-to-kolkata', 'Digha to Kolkata'], ['https://www.redbus.in/bus-tickets/kolkata-to-durgapur', 'Kolkata to Durgapur (West Bengal)'], ['https://www.redbus.in/bus-tickets/habra-to-digha', 'Habra to Digha'], ['https://www.redbus.in/bus-tickets/barasat-west-bengal-to-nandakumar', 'Barasat (West Bengal) to Nandakumar (west bengal)'], ['https://www.redbus.in/bus-tickets/asansol-to-kolkata', 'Asansol (West Bengal) to Kolkata'], ['https://www.redbus.in/bus-tickets/barasat-west-bengal-to-contai-kanthi', 'Barasat (West Bengal) to Contai (Kanthi)'], ['https://www.redbus.in/bus-tickets/siliguri-to-kolkata', 'Siliguri to Kolkata'], ['https://www.redbus.in/bus-tickets/kolkata-to-bolpur-west-bengal', 'Kolkata to Bolpur (West Bengal)'], ['https://www.redbus.in/bus-tickets/barasat-west-bengal-to-midnapore', 'Barasat (West Bengal) to Midnapore'], ['https://www.redbus.in/bus-tickets/barasat-west-bengal-to-kolaghat', 'Barasat (West Bengal) to Kolaghat'], ['https://www.redbus.in/bus-tickets/barasat-west-bengal-to-durgapur', 'Barasat (West Bengal) to Durgapur (West Bengal)'], ['https://www.redbus.in/bus-tickets/barasat-west-bengal-to-heria', 'Barasat (West Bengal) to Heria'], ['https://www.redbus.in/bus-tickets/digha-to-habra', 'Digha to Habra'], ['https://www.redbus.in/bus-tickets/midnapore-to-barasat-west-bengal', 'Midnapore to Barasat (West Bengal)'], ['https://www.redbus.in/bus-tickets/haldia-to-barasat-west-bengal', 'Haldia to Barasat (West Bengal)'], ['https://www.redbus.in/bus-tickets/barasat-west-bengal-to-haldia', 'Barasat (West Bengal) to Haldia'], ['https://www.redbus.in/bus-tickets/midnapore-to-kolkata', 'Midnapore to Kolkata'], ['https://www.redbus.in/bus-tickets/durgapur-to-purulia', 'Durgapur (West Bengal) to Purulia'], ['https://www.redbus.in/bus-tickets/barasat-west-bengal-to-burdwan', 'Barasat (West Bengal) to Burdwan'], ['https://www.redbus.in/bus-tickets/kolkata-to-siliguri', 'Kolkata to Siliguri'], ['https://www.redbus.in/bus-tickets/durgapur-to-barasat-west-bengal', 'Durgapur (West Bengal) to Barasat (West Bengal)'], ['https://www.redbus.in/bus-tickets/haldia-to-kolkata', 'Haldia to Kolkata'], ['https://www.redbus.in/bus-tickets/kolkata-to-purulia', 'Kolkata to Purulia'], ['https://www.redbus.in/bus-tickets/kolkata-to-asansol', 'Kolkata to Asansol (West Bengal)'], ['https://www.redbus.in/bus-tickets/barasat-west-bengal-to-debra', 'Barasat (West Bengal) to Debra'], ['https://www.redbus.in/bus-tickets/barasat-west-bengal-to-asansol', 'Barasat (West Bengal) to Asansol (West Bengal)'], ['https://www.redbus.in/bus-tickets/kolkata-to-bakkhali', 'Kolkata to Bakkhali'], ['https://www.redbus.in/bus-tickets/barasat-west-bengal-to-nimtouri', 'Barasat (West Bengal) to Nimtouri'], ['https://www.redbus.in/bus-tickets/habra-to-kolaghat', 'Habra to Kolaghat'], ['https://www.redbus.in/bus-tickets/habra-to-durgapur', 'Habra to Durgapur (West Bengal)'], ['https://www.redbus.in/bus-tickets/barasat-west-bengal-to-mechogram', 'Barasat (West Bengal) to Mechogram'], ['https://www.redbus.in/bus-tickets/habra-to-haldia', 'Habra to Haldia'], ['https://www.redbus.in/bus-tickets/habra-to-contai-kanthi', 'Habra to Contai (Kanthi)'], ['https://www.redbus.in/bus-tickets/habra-to-midnapore', 'Habra to Midnapore']]\n",
      "41\n"
     ]
    }
   ],
   "source": [
    "from selenium import webdriver\n",
    "from bs4 import BeautifulSoup\n",
    "from selenium.webdriver.common.by import By\n",
    "import time\n",
    "from selenium.webdriver.support.ui import WebDriverWait\n",
    "from selenium.webdriver.support import expected_conditions as EC\n",
    "\n",
    "Host = \"https://www.redbus.in\"\n",
    "#Parsing html page\n",
    "driver = webdriver.Chrome()  # or webdriver.Firefox()\n",
    "driver.get(state_links[3])\n",
    "page_source = driver.page_source\n",
    "soup = BeautifulSoup(page_source,features=\"html.parser\")\n",
    "\n",
    "#Handle Pagination\n",
    "route_link = []\n",
    "routes = []\n",
    "routes_detail = []\n",
    "for val in range(1,len(soup.body.find_all(\"div\", {\"class\" : \"DC_117_pageTabs\"}))):\n",
    "    #Get Route detail and route link\n",
    "    page_source = driver.page_source\n",
    "    soup = BeautifulSoup(page_source,features=\"html.parser\")\n",
    "    for EachPart in soup.body.find_all(\"a\", {\"class\" : \"route\"}):\n",
    "        if Host+EachPart['href'] not in route_link:\n",
    "            route_link.append(Host+EachPart['href'])\n",
    "            routes.append(EachPart.get_text())\n",
    "            routes_detail.append([Host+EachPart['href'], EachPart.get_text()])\n",
    "\n",
    "    pagination = WebDriverWait(driver, 20).until(EC.element_to_be_clickable((By.XPATH, '//*[@class=\"DC_117_paginationTable\"]' )))\n",
    "    next_button = pagination.find_element(By.XPATH, f'//div[@class=\"DC_117_pageTabs \" and text()={val + 1}]')\n",
    "    time.sleep(2)\n",
    "    clickPaginationButton(driver, next_button)\n",
    "\n",
    "    if(val +1 == len(soup.body.find_all(\"div\", {\"class\" : \"DC_117_pageTabs\"}))):\n",
    "        page_source = driver.page_source\n",
    "        soup = BeautifulSoup(page_source,features=\"html.parser\")\n",
    "        for EachPart in soup.body.find_all(\"a\", {\"class\" : \"route\"}):\n",
    "            if Host+EachPart['href'] not in route_link:\n",
    "                route_link.append(Host+EachPart['href'])\n",
    "                routes.append(EachPart.get_text())\n",
    "                routes_detail.append([Host+EachPart['href'], EachPart.get_text()])\n",
    "print(routes_detail)\n",
    "print(len(routes))\n",
    "\n",
    "driver.quit()\n",
    "\n",
    "# Convert Chandigrarh routes_details to csv file\n",
    "store_csv(routes_detail, 'WB_routes_detail.csv')"
   ]
  },
  {
   "cell_type": "markdown",
   "id": "58303758-53c3-4dcd-8eaf-b475b0ebfc51",
   "metadata": {},
   "source": [
    "# Punjab"
   ]
  },
  {
   "cell_type": "code",
   "execution_count": 137,
   "id": "4d0ed8e6-4f09-48ea-b05b-7d937e1bd322",
   "metadata": {},
   "outputs": [
    {
     "name": "stdout",
     "output_type": "stream",
     "text": [
      "[['https://www.redbus.in/bus-tickets/patiala-to-delhi', 'Patiala to Delhi'], ['https://www.redbus.in/bus-tickets/delhi-to-patiala', 'Delhi to Patiala'], ['https://www.redbus.in/bus-tickets/ludhiana-to-delhi', 'Ludhiana to Delhi'], ['https://www.redbus.in/bus-tickets/delhi-to-ludhiana', 'Delhi to Ludhiana'], ['https://www.redbus.in/bus-tickets/phagwara-to-delhi', 'Phagwara to Delhi'], ['https://www.redbus.in/bus-tickets/jalandhar-to-delhi', 'Jalandhar to Delhi'], ['https://www.redbus.in/bus-tickets/delhi-to-jalandhar', 'Delhi to Jalandhar'], ['https://www.redbus.in/bus-tickets/patiala-to-delhi-airport', 'Patiala to Delhi Airport'], ['https://www.redbus.in/bus-tickets/jalandhar-to-delhi-airport', 'Jalandhar to Delhi Airport'], ['https://www.redbus.in/bus-tickets/ludhiana-to-delhi-airport', 'Ludhiana to Delhi Airport'], ['https://www.redbus.in/bus-tickets/phagwara-to-delhi-airport', 'Phagwara to Delhi Airport'], ['https://www.redbus.in/bus-tickets/delhi-airport-to-ludhiana', 'Delhi Airport to Ludhiana'], ['https://www.redbus.in/bus-tickets/delhi-to-phagwara', 'Delhi to Phagwara'], ['https://www.redbus.in/bus-tickets/delhi-to-amritsar', 'Delhi to Amritsar'], ['https://www.redbus.in/bus-tickets/amritsar-to-delhi', 'Amritsar to Delhi'], ['https://www.redbus.in/bus-tickets/delhi-airport-to-patiala', 'Delhi Airport to Patiala'], ['https://www.redbus.in/bus-tickets/amritsar-to-delhi-airport', 'Amritsar to Delhi Airport'], ['https://www.redbus.in/bus-tickets/kapurthala-to-delhi', 'Kapurthala to Delhi'], ['https://www.redbus.in/bus-tickets/delhi-airport-to-jalandhar', 'Delhi Airport to Jalandhar'], ['https://www.redbus.in/bus-tickets/chandigarh-to-bathinda', 'Chandigarh to Bathinda'], ['https://www.redbus.in/bus-tickets/chandigarh-to-faridkot', 'Chandigarh to Faridkot'], ['https://www.redbus.in/bus-tickets/chandigarh-to-patiala', 'Chandigarh to Patiala']]\n",
      "22\n"
     ]
    }
   ],
   "source": [
    "from selenium import webdriver\n",
    "from bs4 import BeautifulSoup\n",
    "from selenium.webdriver.common.by import By\n",
    "import time\n",
    "from selenium.webdriver.support.ui import WebDriverWait\n",
    "from selenium.webdriver.support import expected_conditions as EC\n",
    "\n",
    "Host = \"https://www.redbus.in\"\n",
    "#Parsing html page\n",
    "driver = webdriver.Chrome()  # or webdriver.Firefox()\n",
    "driver.get(state_links[4])\n",
    "page_source = driver.page_source\n",
    "soup = BeautifulSoup(page_source,features=\"html.parser\")\n",
    "\n",
    "#Handle Pagination\n",
    "route_link = []\n",
    "routes = []\n",
    "routes_detail = []\n",
    "for val in range(1,len(soup.body.find_all(\"div\", {\"class\" : \"DC_117_pageTabs\"}))):\n",
    "    #Get Route detail and route link\n",
    "    page_source = driver.page_source\n",
    "    soup = BeautifulSoup(page_source,features=\"html.parser\")\n",
    "    for EachPart in soup.body.find_all(\"a\", {\"class\" : \"route\"}):\n",
    "        if Host+EachPart['href'] not in route_link:\n",
    "            route_link.append(Host+EachPart['href'])\n",
    "            routes.append(EachPart.get_text())\n",
    "            routes_detail.append([Host+EachPart['href'], EachPart.get_text()])\n",
    "\n",
    "    pagination = WebDriverWait(driver, 20).until(EC.element_to_be_clickable((By.XPATH, '//*[@class=\"DC_117_paginationTable\"]' )))\n",
    "    next_button = pagination.find_element(By.XPATH, f'//div[@class=\"DC_117_pageTabs \" and text()={val + 1}]')\n",
    "    time.sleep(2)\n",
    "    clickPaginationButton(driver, next_button)\n",
    "\n",
    "    if(val +1 == len(soup.body.find_all(\"div\", {\"class\" : \"DC_117_pageTabs\"}))):\n",
    "        page_source = driver.page_source\n",
    "        soup = BeautifulSoup(page_source,features=\"html.parser\")\n",
    "        for EachPart in soup.body.find_all(\"a\", {\"class\" : \"route\"}):\n",
    "            if Host+EachPart['href'] not in route_link:\n",
    "                route_link.append(Host+EachPart['href'])\n",
    "                routes.append(EachPart.get_text())\n",
    "                routes_detail.append([Host+EachPart['href'], EachPart.get_text()])\n",
    "print(routes_detail)\n",
    "print(len(routes))\n",
    "\n",
    "driver.quit()\n",
    "\n",
    "# Convert Chandigrarh routes_details to csv file\n",
    "store_csv(routes_detail, 'PB_routes_detail.csv')"
   ]
  },
  {
   "cell_type": "markdown",
   "id": "1cca3691-6936-4c6b-9b6a-6fb4ad8c7397",
   "metadata": {},
   "source": [
    "# Rajasthan"
   ]
  },
  {
   "cell_type": "code",
   "execution_count": 138,
   "id": "4dcdaf61-93f9-40ac-86bc-375761e2ab01",
   "metadata": {},
   "outputs": [
    {
     "name": "stdout",
     "output_type": "stream",
     "text": [
      "[['https://www.redbus.in/bus-tickets/jodhpur-to-ajmer', 'Jodhpur to Ajmer'], ['https://www.redbus.in/bus-tickets/beawer-to-jaipur', 'Beawar (Rajasthan) to Jaipur (Rajasthan)'], ['https://www.redbus.in/bus-tickets/udaipur-to-jodhpur', 'Udaipur to Jodhpur'], ['https://www.redbus.in/bus-tickets/jaipur-to-jodhpur', 'Jaipur (Rajasthan) to Jodhpur'], ['https://www.redbus.in/bus-tickets/sikar-to-jaipur', 'Sikar to Jaipur (Rajasthan)'], ['https://www.redbus.in/bus-tickets/kishangarh-to-jaipur', 'Kishangarh to Jaipur (Rajasthan)'], ['https://www.redbus.in/bus-tickets/aligarh-uttar-pradesh-to-jaipur', 'Aligarh (uttar pradesh) to Jaipur (Rajasthan)'], ['https://www.redbus.in/bus-tickets/jodhpur-to-beawer', 'Jodhpur to Beawar (Rajasthan)'], ['https://www.redbus.in/bus-tickets/kota-rajasthan-to-jaipur', 'Kota(Rajasthan) to Jaipur (Rajasthan)'], ['https://www.redbus.in/bus-tickets/jaipur-to-aligarh-uttar-pradesh', 'Jaipur (Rajasthan) to Aligarh (uttar pradesh)'], ['https://www.redbus.in/bus-tickets/jaipur-to-kota-rajasthan', 'Jaipur (Rajasthan) to Kota(Rajasthan)'], ['https://www.redbus.in/bus-tickets/pali-to-udaipur', 'Pali (Rajasthan) to Udaipur'], ['https://www.redbus.in/bus-tickets/udaipur-to-pali-rajasthan', 'Udaipur to Pali (Rajasthan)'], ['https://www.redbus.in/bus-tickets/sikar-to-bikaner', 'Sikar to Bikaner'], ['https://www.redbus.in/bus-tickets/jaipur-to-bharatpur', 'Jaipur (Rajasthan) to Bharatpur'], ['https://www.redbus.in/bus-tickets/kishangarh-to-jodhpur', 'Kishangarh to Jodhpur'], ['https://www.redbus.in/bus-tickets/jaipur-to-bhilwara', 'Jaipur (Rajasthan) to Bhilwara'], ['https://www.redbus.in/bus-tickets/kota-rajasthan-to-udaipur', 'Kota(Rajasthan) to Udaipur'], ['https://www.redbus.in/bus-tickets/jaipur-to-pilani', 'Jaipur (Rajasthan) to Pilani'], ['https://www.redbus.in/bus-tickets/jaipur-to-mathura', 'Jaipur (Rajasthan) to Mathura'], ['https://www.redbus.in/bus-tickets/bikaner-to-sikar', 'Bikaner to Sikar']]\n",
      "21\n"
     ]
    }
   ],
   "source": [
    "from selenium import webdriver\n",
    "from bs4 import BeautifulSoup\n",
    "from selenium.webdriver.common.by import By\n",
    "import time\n",
    "from selenium.webdriver.support.ui import WebDriverWait\n",
    "from selenium.webdriver.support import expected_conditions as EC\n",
    "\n",
    "Host = \"https://www.redbus.in\"\n",
    "#Parsing html page\n",
    "driver = webdriver.Chrome()  # or webdriver.Firefox()\n",
    "driver.get(state_links[5])\n",
    "page_source = driver.page_source\n",
    "soup = BeautifulSoup(page_source,features=\"html.parser\")\n",
    "\n",
    "#Handle Pagination\n",
    "route_link = []\n",
    "routes = []\n",
    "routes_detail = []\n",
    "for val in range(1,len(soup.body.find_all(\"div\", {\"class\" : \"DC_117_pageTabs\"}))):\n",
    "    #Get Route detail and route link\n",
    "    page_source = driver.page_source\n",
    "    soup = BeautifulSoup(page_source,features=\"html.parser\")\n",
    "    for EachPart in soup.body.find_all(\"a\", {\"class\" : \"route\"}):\n",
    "        if Host+EachPart['href'] not in route_link:\n",
    "            route_link.append(Host+EachPart['href'])\n",
    "            routes.append(EachPart.get_text())\n",
    "            routes_detail.append([Host+EachPart['href'], EachPart.get_text()])\n",
    "\n",
    "    pagination = WebDriverWait(driver, 20).until(EC.element_to_be_clickable((By.XPATH, '//*[@class=\"DC_117_paginationTable\"]' )))\n",
    "    next_button = pagination.find_element(By.XPATH, f'//div[@class=\"DC_117_pageTabs \" and text()={val + 1}]')\n",
    "    time.sleep(2)\n",
    "    clickPaginationButton(driver, next_button)\n",
    "\n",
    "    if(val +1 == len(soup.body.find_all(\"div\", {\"class\" : \"DC_117_pageTabs\"}))):\n",
    "        page_source = driver.page_source\n",
    "        soup = BeautifulSoup(page_source,features=\"html.parser\")\n",
    "        for EachPart in soup.body.find_all(\"a\", {\"class\" : \"route\"}):\n",
    "            if Host+EachPart['href'] not in route_link:\n",
    "                route_link.append(Host+EachPart['href'])\n",
    "                routes.append(EachPart.get_text())\n",
    "                routes_detail.append([Host+EachPart['href'], EachPart.get_text()])\n",
    "print(routes_detail)\n",
    "print(len(routes))\n",
    "\n",
    "driver.quit()\n",
    "\n",
    "# Convert Chandigrarh routes_details to csv file\n",
    "store_csv(routes_detail, 'RJ_routes_detail.csv')"
   ]
  },
  {
   "cell_type": "markdown",
   "id": "be8a4f25-3279-4fab-99da-d1bef2f40ef9",
   "metadata": {},
   "source": [
    "# Himachal"
   ]
  },
  {
   "cell_type": "code",
   "execution_count": 139,
   "id": "5ee1e48f-5949-4e56-b6ac-78f6522c9d20",
   "metadata": {},
   "outputs": [
    {
     "name": "stdout",
     "output_type": "stream",
     "text": [
      "[['https://www.redbus.in/bus-tickets/delhi-to-shimla', 'Delhi to Shimla'], ['https://www.redbus.in/bus-tickets/shimla-to-delhi', 'Shimla to Delhi'], ['https://www.redbus.in/bus-tickets/manali-to-chandigarh', 'Manali to Chandigarh'], ['https://www.redbus.in/bus-tickets/chandigarh-to-manali', 'Chandigarh to Manali'], ['https://www.redbus.in/bus-tickets/delhi-to-manali', 'Delhi to Manali'], ['https://www.redbus.in/bus-tickets/hamirpur-himachal-pradesh-to-chandigarh', 'Hamirpur (Himachal Pradesh) to Chandigarh'], ['https://www.redbus.in/bus-tickets/delhi-to-hamirpur-himachal-pradesh', 'Delhi to Hamirpur (Himachal Pradesh)'], ['https://www.redbus.in/bus-tickets/delhi-to-chandigarh', 'Delhi to Chandigarh'], ['https://www.redbus.in/bus-tickets/manali-to-delhi', 'Manali to Delhi'], ['https://www.redbus.in/bus-tickets/hamirpur-himachal-pradesh-to-delhi', 'Hamirpur (Himachal Pradesh) to Delhi'], ['https://www.redbus.in/bus-tickets/chandigarh-to-hamirpur-himachal-pradesh', 'Chandigarh to Hamirpur (Himachal Pradesh)'], ['https://www.redbus.in/bus-tickets/shimla-to-manali', 'Shimla to Manali'], ['https://www.redbus.in/bus-tickets/delhi-to-dharamshala', 'Delhi to Dharamshala (Himachal Pradesh)'], ['https://www.redbus.in/bus-tickets/shimla-to-chandigarh', 'Shimla to Chandigarh'], ['https://www.redbus.in/bus-tickets/chandigarh-to-dharamshala', 'Chandigarh to Dharamshala (Himachal Pradesh)'], ['https://www.redbus.in/bus-tickets/delhi-to-baddi-himachal-pradesh', 'Delhi to Baddi (Himachal Pradesh)'], ['https://www.redbus.in/bus-tickets/dharamshala-to-chandigarh', 'Dharamshala (Himachal Pradesh) to Chandigarh'], ['https://www.redbus.in/bus-tickets/chamba-himachal-pradesh-to-chandigarh', 'Chamba (Himachal Pradesh) to Chandigarh'], ['https://www.redbus.in/bus-tickets/delhi-to-dalhousie', 'Delhi to Dalhousie'], ['https://www.redbus.in/bus-tickets/delhi-to-chamba-himachal-pradesh', 'Delhi to Chamba (Himachal Pradesh)'], ['https://www.redbus.in/bus-tickets/dalhousie-to-delhi', 'Dalhousie to Delhi'], ['https://www.redbus.in/bus-tickets/solan-to-delhi', 'Solan to Delhi'], ['https://www.redbus.in/bus-tickets/delhi-to-palampur', 'Delhi to Palampur'], ['https://www.redbus.in/bus-tickets/dharamshala-to-delhi', 'Dharamshala (Himachal Pradesh) to Delhi'], ['https://www.redbus.in/bus-tickets/delhi-to-solan', 'Delhi to Solan'], ['https://www.redbus.in/bus-tickets/chandigarh-to-reckong-peo-himachal-pradesh', 'Chandigarh to Reckong Peo (Himachal Pradesh)'], ['https://www.redbus.in/bus-tickets/manali-to-shimla', 'Manali to Shimla'], ['https://www.redbus.in/bus-tickets/palampur-to-delhi', 'Palampur to Delhi'], ['https://www.redbus.in/bus-tickets/chandigarh-to-kullu', 'Chandigarh to Kullu'], ['https://www.redbus.in/bus-tickets/kangra-to-chandigarh', 'Kangra to Chandigarh'], ['https://www.redbus.in/bus-tickets/kullu-to-chandigarh', 'Kullu to Chandigarh'], ['https://www.redbus.in/bus-tickets/delhi-to-kangra', 'Delhi to Kangra'], ['https://www.redbus.in/bus-tickets/chamba-himachal-pradesh-to-delhi', 'Chamba (Himachal Pradesh) to Delhi'], ['https://www.redbus.in/bus-tickets/palampur-to-chandigarh', 'Palampur to Chandigarh'], ['https://www.redbus.in/bus-tickets/chandigarh-to-shimla', 'Chandigarh to Shimla'], ['https://www.redbus.in/bus-tickets/chandigarh-to-kangra', 'Chandigarh to Kangra'], ['https://www.redbus.in/bus-tickets/delhi-to-nalagarh', 'Delhi to Nalagarh'], ['https://www.redbus.in/bus-tickets/baddi-himachal-pradesh-to-delhi', 'Baddi (Himachal Pradesh) to Delhi'], ['https://www.redbus.in/bus-tickets/kangra-to-delhi', 'Kangra to Delhi'], ['https://www.redbus.in/bus-tickets/ghumarwin-to-delhi', 'Ghumarwin to Delhi'], ['https://www.redbus.in/bus-tickets/delhi-to-sarkaghat', 'Delhi to Sarkaghat']]\n",
      "41\n"
     ]
    }
   ],
   "source": [
    "from selenium import webdriver\n",
    "from bs4 import BeautifulSoup\n",
    "from selenium.webdriver.common.by import By\n",
    "import time\n",
    "from selenium.webdriver.support.ui import WebDriverWait\n",
    "from selenium.webdriver.support import expected_conditions as EC\n",
    "\n",
    "Host = \"https://www.redbus.in\"\n",
    "#Parsing html page\n",
    "driver = webdriver.Chrome()  # or webdriver.Firefox()\n",
    "driver.get(state_links[6])\n",
    "page_source = driver.page_source\n",
    "soup = BeautifulSoup(page_source,features=\"html.parser\")\n",
    "\n",
    "#Handle Pagination\n",
    "route_link = []\n",
    "routes = []\n",
    "routes_detail = []\n",
    "for val in range(1,len(soup.body.find_all(\"div\", {\"class\" : \"DC_117_pageTabs\"}))):\n",
    "    #Get Route detail and route link\n",
    "    page_source = driver.page_source\n",
    "    soup = BeautifulSoup(page_source,features=\"html.parser\")\n",
    "    for EachPart in soup.body.find_all(\"a\", {\"class\" : \"route\"}):\n",
    "        if Host+EachPart['href'] not in route_link:\n",
    "            route_link.append(Host+EachPart['href'])\n",
    "            routes.append(EachPart.get_text())\n",
    "            routes_detail.append([Host+EachPart['href'], EachPart.get_text()])\n",
    "\n",
    "    pagination = WebDriverWait(driver, 20).until(EC.element_to_be_clickable((By.XPATH, '//*[@class=\"DC_117_paginationTable\"]' )))\n",
    "    next_button = pagination.find_element(By.XPATH, f'//div[@class=\"DC_117_pageTabs \" and text()={val + 1}]')\n",
    "    time.sleep(2)\n",
    "    clickPaginationButton(driver, next_button)\n",
    "\n",
    "    if(val +1 == len(soup.body.find_all(\"div\", {\"class\" : \"DC_117_pageTabs\"}))):\n",
    "        page_source = driver.page_source\n",
    "        soup = BeautifulSoup(page_source,features=\"html.parser\")\n",
    "        for EachPart in soup.body.find_all(\"a\", {\"class\" : \"route\"}):\n",
    "            if Host+EachPart['href'] not in route_link:\n",
    "                route_link.append(Host+EachPart['href'])\n",
    "                routes.append(EachPart.get_text())\n",
    "                routes_detail.append([Host+EachPart['href'], EachPart.get_text()])\n",
    "print(routes_detail)\n",
    "print(len(routes))\n",
    "\n",
    "driver.quit()\n",
    "\n",
    "# Convert Chandigrarh routes_details to csv file\n",
    "store_csv(routes_detail, 'HM_routes_detail.csv')"
   ]
  },
  {
   "cell_type": "markdown",
   "id": "22b45e19-8ed1-4e01-911f-612a16d67a47",
   "metadata": {},
   "source": [
    "# Assam"
   ]
  },
  {
   "cell_type": "code",
   "execution_count": 140,
   "id": "dcf113c4-ffd6-4c3a-a899-43338f8ecf24",
   "metadata": {},
   "outputs": [
    {
     "name": "stdout",
     "output_type": "stream",
     "text": [
      "[['https://www.redbus.in/bus-tickets/tezpur-to-guwahati', 'Tezpur to Guwahati'], ['https://www.redbus.in/bus-tickets/guwahati-to-tezpur', 'Guwahati to Tezpur'], ['https://www.redbus.in/bus-tickets/nagaon-to-guwahati', 'Nagaon (Assam) to Guwahati'], ['https://www.redbus.in/bus-tickets/guwahati-to-nagaon', 'Guwahati to Nagaon (Assam)'], ['https://www.redbus.in/bus-tickets/goalpara-to-guwahati', 'Goalpara to Guwahati'], ['https://www.redbus.in/bus-tickets/jorhat-to-north-lakhimpur', 'Jorhat to North Lakhimpur'], ['https://www.redbus.in/bus-tickets/dhubri-to-guwahati', 'Dhubri to Guwahati'], ['https://www.redbus.in/bus-tickets/guwahati-to-dhubri', 'Guwahati to Dhubri'], ['https://www.redbus.in/bus-tickets/north-lakhimpur-to-sibsagar', 'North Lakhimpur to Sibsagar'], ['https://www.redbus.in/bus-tickets/north-lakhimpur-to-jorhat', 'North Lakhimpur to Jorhat'], ['https://www.redbus.in/bus-tickets/dhekiajuli-to-guwahati', 'Dhekiajuli to Guwahati'], ['https://www.redbus.in/bus-tickets/jorhat-to-dibrugarh', 'Jorhat to Dibrugarh'], ['https://www.redbus.in/bus-tickets/jorhat-to-dhemaji', 'Jorhat to Dhemaji'], ['https://www.redbus.in/bus-tickets/sibsagar-to-north-lakhimpur', 'Sibsagar to North Lakhimpur'], ['https://www.redbus.in/bus-tickets/dhemaji-to-jorhat', 'Dhemaji to Jorhat'], ['https://www.redbus.in/bus-tickets/tezpur-to-dibrugarh', 'Tezpur to Dibrugarh'], ['https://www.redbus.in/bus-tickets/haflong-to-guwahati', 'Haflong to Guwahati'], ['https://www.redbus.in/bus-tickets/north-lakhimpur-to-dibrugarh', 'North Lakhimpur to Dibrugarh'], ['https://www.redbus.in/bus-tickets/jorhat-to-tinsukia', 'Jorhat to Tinsukia'], ['https://www.redbus.in/bus-tickets/dibrugarh-to-tezpur', 'Dibrugarh to Tezpur'], ['https://www.redbus.in/bus-tickets/guwahati-to-biswanath-charali', 'Guwahati to Biswanath Charali'], ['https://www.redbus.in/bus-tickets/guwahati-to-haflong', 'Guwahati to Haflong'], ['https://www.redbus.in/bus-tickets/dibrugarh-to-north-lakhimpur', 'Dibrugarh to North Lakhimpur'], ['https://www.redbus.in/bus-tickets/nagaon-to-haflong', 'Nagaon (Assam) to Haflong'], ['https://www.redbus.in/bus-tickets/tezpur-to-moran', 'Tezpur to Moran'], ['https://www.redbus.in/bus-tickets/dibrugarh-to-jorhat', 'Dibrugarh to Jorhat'], ['https://www.redbus.in/bus-tickets/guwahati-to-silchar', 'Guwahati to Silchar'], ['https://www.redbus.in/bus-tickets/bihpuria-to-dibrugarh', 'Bihpuria to Dibrugarh'], ['https://www.redbus.in/bus-tickets/haflong-to-nagaon', 'Haflong to Nagaon (Assam)'], ['https://www.redbus.in/bus-tickets/north-lakhimpur-to-tezpur', 'North Lakhimpur to Tezpur'], ['https://www.redbus.in/bus-tickets/biswanath-charali-to-guwahati', 'Biswanath Charali to Guwahati'], ['https://www.redbus.in/bus-tickets/biswanath-charali-to-dibrugarh', 'Biswanath Charali to Dibrugarh'], ['https://www.redbus.in/bus-tickets/tinsukia-to-jorhat', 'Tinsukia to Jorhat'], ['https://www.redbus.in/bus-tickets/moran-to-tezpur', 'Moran to Tezpur'], ['https://www.redbus.in/bus-tickets/jorhat-to-gogamukh', 'Jorhat to Gogamukh'], ['https://www.redbus.in/bus-tickets/dibrugarh-to-biswanath-charali', 'Dibrugarh to Biswanath Charali'], ['https://www.redbus.in/bus-tickets/gohpur-to-guwahati', 'Gohpur to Guwahati'], ['https://www.redbus.in/bus-tickets/tinsukia-to-tezpur', 'Tinsukia to Tezpur'], ['https://www.redbus.in/bus-tickets/north-lakhimpur-to-golaghat', 'North Lakhimpur to Golaghat'], ['https://www.redbus.in/bus-tickets/golaghat-to-north-lakhimpur', 'Golaghat to North Lakhimpur'], ['https://www.redbus.in/bus-tickets/silchar-to-guwahati', 'Silchar to Guwahati'], ['https://www.redbus.in/bus-tickets/bokakhat-to-dibrugarh', 'Bokakhat to Dibrugarh'], ['https://www.redbus.in/bus-tickets/north-lakhimpur-to-moran', 'North Lakhimpur to Moran'], ['https://www.redbus.in/bus-tickets/tezpur-to-north-lakhimpur', 'Tezpur to North Lakhimpur'], ['https://www.redbus.in/bus-tickets/tezpur-to-tinsukia', 'Tezpur to Tinsukia'], ['https://www.redbus.in/bus-tickets/dibrugarh-to-bihpuria', 'Dibrugarh to Bihpuria'], ['https://www.redbus.in/bus-tickets/dibrugarh-to-bokakhat', 'Dibrugarh to Bokakhat']]\n",
      "47\n"
     ]
    }
   ],
   "source": [
    "from selenium import webdriver\n",
    "from bs4 import BeautifulSoup\n",
    "from selenium.webdriver.common.by import By\n",
    "import time\n",
    "from selenium.webdriver.support.ui import WebDriverWait\n",
    "from selenium.webdriver.support import expected_conditions as EC\n",
    "\n",
    "Host = \"https://www.redbus.in\"\n",
    "#Parsing html page\n",
    "driver = webdriver.Chrome()  # or webdriver.Firefox()\n",
    "driver.get(state_links[7])\n",
    "page_source = driver.page_source\n",
    "soup = BeautifulSoup(page_source,features=\"html.parser\")\n",
    "\n",
    "#Handle Pagination\n",
    "route_link = []\n",
    "routes = []\n",
    "routes_detail = []\n",
    "for val in range(1,len(soup.body.find_all(\"div\", {\"class\" : \"DC_117_pageTabs\"}))):\n",
    "    #Get Route detail and route link\n",
    "    page_source = driver.page_source\n",
    "    soup = BeautifulSoup(page_source,features=\"html.parser\")\n",
    "    for EachPart in soup.body.find_all(\"a\", {\"class\" : \"route\"}):\n",
    "        if Host+EachPart['href'] not in route_link:\n",
    "            route_link.append(Host+EachPart['href'])\n",
    "            routes.append(EachPart.get_text())\n",
    "            routes_detail.append([Host+EachPart['href'], EachPart.get_text()])\n",
    "\n",
    "    pagination = WebDriverWait(driver, 20).until(EC.element_to_be_clickable((By.XPATH, '//*[@class=\"DC_117_paginationTable\"]' )))\n",
    "    next_button = pagination.find_element(By.XPATH, f'//div[@class=\"DC_117_pageTabs \" and text()={val + 1}]')\n",
    "    time.sleep(2)\n",
    "    clickPaginationButton(driver, next_button)\n",
    "\n",
    "    if(val +1 == len(soup.body.find_all(\"div\", {\"class\" : \"DC_117_pageTabs\"}))):\n",
    "        page_source = driver.page_source\n",
    "        soup = BeautifulSoup(page_source,features=\"html.parser\")\n",
    "        for EachPart in soup.body.find_all(\"a\", {\"class\" : \"route\"}):\n",
    "            if Host+EachPart['href'] not in route_link:\n",
    "                route_link.append(Host+EachPart['href'])\n",
    "                routes.append(EachPart.get_text())\n",
    "                routes_detail.append([Host+EachPart['href'], EachPart.get_text()])\n",
    "print(routes_detail)\n",
    "print(len(routes))\n",
    "\n",
    "driver.quit()\n",
    "\n",
    "# Convert Chandigrarh routes_details to csv file\n",
    "store_csv(routes_detail, 'AS_routes_detail.csv')"
   ]
  },
  {
   "cell_type": "markdown",
   "id": "7abe95e3-c461-4da2-b1b4-f2b513901d09",
   "metadata": {},
   "source": [
    "# Sikkim"
   ]
  },
  {
   "cell_type": "code",
   "execution_count": 141,
   "id": "122cd9ee-82a6-4d72-8db1-2ed1a91b253a",
   "metadata": {},
   "outputs": [
    {
     "name": "stdout",
     "output_type": "stream",
     "text": [
      "[['https://www.redbus.in/bus-tickets/gangtok-to-siliguri', 'Gangtok to Siliguri'], ['https://www.redbus.in/bus-tickets/siliguri-to-gangtok', 'Siliguri to Gangtok'], ['https://www.redbus.in/bus-tickets/siliguri-to-rangpo', 'Siliguri to Rangpo'], ['https://www.redbus.in/bus-tickets/rangpo-to-siliguri', 'Rangpo to Siliguri'], ['https://www.redbus.in/bus-tickets/siliguri-to-pelling-sikkim', 'Siliguri to Pelling (Sikkim)'], ['https://www.redbus.in/bus-tickets/pelling-sikkim-to-siliguri', 'Pelling (Sikkim) to Siliguri'], ['https://www.redbus.in/bus-tickets/ravangla-sikkim-to-siliguri', 'Ravangla (Sikkim) to Siliguri'], ['https://www.redbus.in/bus-tickets/siliguri-to-jorethang-sikkim', 'Siliguri to Jorethang (Sikkim)'], ['https://www.redbus.in/bus-tickets/singtham-sikkim-to-siliguri', 'Singtham (Sikkim) to Siliguri'], ['https://www.redbus.in/bus-tickets/siliguri-to-singtham-sikkim', 'Siliguri to Singtham (Sikkim)'], ['https://www.redbus.in/bus-tickets/siliguri-to-namchi-sikkim', 'Siliguri to Namchi (Sikkim)'], ['https://www.redbus.in/bus-tickets/siliguri-to-ravangla-sikkim', 'Siliguri to Ravangla (Sikkim)'], ['https://www.redbus.in/bus-tickets/jorethang-sikkim-to-siliguri', 'Jorethang (Sikkim) to Siliguri'], ['https://www.redbus.in/bus-tickets/namchi-sikkim-to-siliguri', 'Namchi (Sikkim) to Siliguri'], ['https://www.redbus.in/bus-tickets/siliguri-to-melli-sikkim', 'Siliguri to Melli (Sikkim)']]\n",
      "15\n"
     ]
    }
   ],
   "source": [
    "from selenium import webdriver\n",
    "from bs4 import BeautifulSoup\n",
    "from selenium.webdriver.common.by import By\n",
    "import time\n",
    "from selenium.webdriver.support.ui import WebDriverWait\n",
    "from selenium.webdriver.support import expected_conditions as EC\n",
    "\n",
    "Host = \"https://www.redbus.in\"\n",
    "#Parsing html page\n",
    "driver = webdriver.Chrome()  # or webdriver.Firefox()\n",
    "driver.get(state_links[8])\n",
    "page_source = driver.page_source\n",
    "soup = BeautifulSoup(page_source,features=\"html.parser\")\n",
    "\n",
    "#Handle Pagination\n",
    "route_link = []\n",
    "routes = []\n",
    "routes_detail = []\n",
    "for val in range(1,len(soup.body.find_all(\"div\", {\"class\" : \"DC_117_pageTabs\"}))):\n",
    "    #Get Route detail and route link\n",
    "    page_source = driver.page_source\n",
    "    soup = BeautifulSoup(page_source,features=\"html.parser\")\n",
    "    for EachPart in soup.body.find_all(\"a\", {\"class\" : \"route\"}):\n",
    "        if Host+EachPart['href'] not in route_link:\n",
    "            route_link.append(Host+EachPart['href'])\n",
    "            routes.append(EachPart.get_text())\n",
    "            routes_detail.append([Host+EachPart['href'], EachPart.get_text()])\n",
    "\n",
    "    pagination = WebDriverWait(driver, 20).until(EC.element_to_be_clickable((By.XPATH, '//*[@class=\"DC_117_paginationTable\"]' )))\n",
    "    next_button = pagination.find_element(By.XPATH, f'//div[@class=\"DC_117_pageTabs \" and text()={val + 1}]')\n",
    "    time.sleep(2)\n",
    "    clickPaginationButton(driver, next_button)\n",
    "\n",
    "    if(val +1 == len(soup.body.find_all(\"div\", {\"class\" : \"DC_117_pageTabs\"}))):\n",
    "        page_source = driver.page_source\n",
    "        soup = BeautifulSoup(page_source,features=\"html.parser\")\n",
    "        for EachPart in soup.body.find_all(\"a\", {\"class\" : \"route\"}):\n",
    "            if Host+EachPart['href'] not in route_link:\n",
    "                route_link.append(Host+EachPart['href'])\n",
    "                routes.append(EachPart.get_text())\n",
    "                routes_detail.append([Host+EachPart['href'], EachPart.get_text()])\n",
    "print(routes_detail)\n",
    "print(len(routes))\n",
    "\n",
    "driver.quit()\n",
    "\n",
    "# Convert Chandigrarh routes_details to csv file\n",
    "store_csv(routes_detail, 'SK_routes_detail.csv')"
   ]
  },
  {
   "cell_type": "markdown",
   "id": "da8cee9f-cbdd-4e89-812f-a3582416d4cf",
   "metadata": {},
   "source": [
    "# Meghalaya"
   ]
  },
  {
   "cell_type": "code",
   "execution_count": 142,
   "id": "e72b5382-dc38-4ae3-a015-11789430655f",
   "metadata": {},
   "outputs": [
    {
     "name": "stdout",
     "output_type": "stream",
     "text": [
      "[['https://www.redbus.in/bus-tickets/guwahati-to-shillong', 'Guwahati to Shillong'], ['https://www.redbus.in/bus-tickets/shillong-to-tura-meghalaya', 'Shillong to Tura (Meghalaya)'], ['https://www.redbus.in/bus-tickets/shillong-to-guwahati', 'Shillong to Guwahati'], ['https://www.redbus.in/bus-tickets/tura-meghalaya-to-shillong', 'Tura (Meghalaya) to Shillong'], ['https://www.redbus.in/bus-tickets/shillong-to-silchar', 'Shillong to Silchar'], ['https://www.redbus.in/bus-tickets/silchar-to-shillong', 'Silchar to Shillong'], ['https://www.redbus.in/bus-tickets/shillong-to-karimganj', 'Shillong to Karimganj'], ['https://www.redbus.in/bus-tickets/shillong-to-williamnagar-meghalaya', 'Shillong to Williamnagar (Meghalaya)'], ['https://www.redbus.in/bus-tickets/karimganj-to-shillong', 'Karimganj to Shillong'], ['https://www.redbus.in/bus-tickets/williamnagar-meghalaya-to-shillong', 'Williamnagar (Meghalaya) to Shillong'], ['https://www.redbus.in/bus-tickets/shillong-to-hailakandi', 'Shillong to Hailakandi'], ['https://www.redbus.in/bus-tickets/shillong-to-ramkrishnanagar', 'Shillong to Ramkrishnanagar'], ['https://www.redbus.in/bus-tickets/hailakandi-to-shillong', 'Hailakandi to Shillong'], ['https://www.redbus.in/bus-tickets/ramkrishnanagar-to-shillong', 'Ramkrishnanagar to Shillong'], ['https://www.redbus.in/bus-tickets/shillong-to-phulbari', 'Shillong to Phulbari']]\n",
      "15\n"
     ]
    }
   ],
   "source": [
    "from selenium import webdriver\n",
    "from bs4 import BeautifulSoup\n",
    "from selenium.webdriver.common.by import By\n",
    "import time\n",
    "from selenium.webdriver.support.ui import WebDriverWait\n",
    "from selenium.webdriver.support import expected_conditions as EC\n",
    "\n",
    "Host = \"https://www.redbus.in\"\n",
    "#Parsing html page\n",
    "driver = webdriver.Chrome()  # or webdriver.Firefox()\n",
    "driver.get(state_links[9])\n",
    "page_source = driver.page_source\n",
    "soup = BeautifulSoup(page_source,features=\"html.parser\")\n",
    "\n",
    "#Handle Pagination\n",
    "route_link = []\n",
    "routes = []\n",
    "routes_detail = []\n",
    "for val in range(1,len(soup.body.find_all(\"div\", {\"class\" : \"DC_117_pageTabs\"}))):\n",
    "    #Get Route detail and route link\n",
    "    page_source = driver.page_source\n",
    "    soup = BeautifulSoup(page_source,features=\"html.parser\")\n",
    "    for EachPart in soup.body.find_all(\"a\", {\"class\" : \"route\"}):\n",
    "        if Host+EachPart['href'] not in route_link:\n",
    "            route_link.append(Host+EachPart['href'])\n",
    "            routes.append(EachPart.get_text())\n",
    "            routes_detail.append([Host+EachPart['href'], EachPart.get_text()])\n",
    "\n",
    "    pagination = WebDriverWait(driver, 20).until(EC.element_to_be_clickable((By.XPATH, '//*[@class=\"DC_117_paginationTable\"]' )))\n",
    "    next_button = pagination.find_element(By.XPATH, f'//div[@class=\"DC_117_pageTabs \" and text()={val + 1}]')\n",
    "    time.sleep(2)\n",
    "    clickPaginationButton(driver, next_button)\n",
    "\n",
    "    if(val +1 == len(soup.body.find_all(\"div\", {\"class\" : \"DC_117_pageTabs\"}))):\n",
    "        page_source = driver.page_source\n",
    "        soup = BeautifulSoup(page_source,features=\"html.parser\")\n",
    "        for EachPart in soup.body.find_all(\"a\", {\"class\" : \"route\"}):\n",
    "            if Host+EachPart['href'] not in route_link:\n",
    "                route_link.append(Host+EachPart['href'])\n",
    "                routes.append(EachPart.get_text())\n",
    "                routes_detail.append([Host+EachPart['href'], EachPart.get_text()])\n",
    "print(routes_detail)\n",
    "print(len(routes))\n",
    "\n",
    "driver.quit()\n",
    "\n",
    "# Convert Chandigrarh routes_details to csv file\n",
    "store_csv(routes_detail, 'MG_routes_detail.csv')"
   ]
  },
  {
   "cell_type": "markdown",
   "id": "dba94321-0454-41a2-936a-45de49911412",
   "metadata": {},
   "source": [
    "# Total of 336 routes available"
   ]
  }
 ],
 "metadata": {
  "kernelspec": {
   "display_name": "Python 3 (ipykernel)",
   "language": "python",
   "name": "python3"
  },
  "language_info": {
   "codemirror_mode": {
    "name": "ipython",
    "version": 3
   },
   "file_extension": ".py",
   "mimetype": "text/x-python",
   "name": "python",
   "nbconvert_exporter": "python",
   "pygments_lexer": "ipython3",
   "version": "3.12.4"
  }
 },
 "nbformat": 4,
 "nbformat_minor": 5
}
