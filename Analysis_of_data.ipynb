{
 "cells": [
  {
   "cell_type": "code",
   "execution_count": 56,
   "id": "4b808f61-3bc0-45e7-abc6-0a6bc6c3dff2",
   "metadata": {},
   "outputs": [],
   "source": [
    "import pandas as pd\n",
    "import numpy as np\n",
    "import mysql.connector"
   ]
  },
  {
   "cell_type": "code",
   "execution_count": 5,
   "id": "497dc4a3-7e4e-4d46-871f-ec83e5060074",
   "metadata": {},
   "outputs": [
    {
     "data": {
      "text/html": [
       "<div>\n",
       "<style scoped>\n",
       "    .dataframe tbody tr th:only-of-type {\n",
       "        vertical-align: middle;\n",
       "    }\n",
       "\n",
       "    .dataframe tbody tr th {\n",
       "        vertical-align: top;\n",
       "    }\n",
       "\n",
       "    .dataframe thead th {\n",
       "        text-align: right;\n",
       "    }\n",
       "</style>\n",
       "<table border=\"1\" class=\"dataframe\">\n",
       "  <thead>\n",
       "    <tr style=\"text-align: right;\">\n",
       "      <th></th>\n",
       "      <th>Bus_name</th>\n",
       "      <th>Bus_type</th>\n",
       "      <th>Start_time</th>\n",
       "      <th>End_time</th>\n",
       "      <th>Total_duration</th>\n",
       "      <th>Price</th>\n",
       "      <th>Seats_Available</th>\n",
       "      <th>Ratings</th>\n",
       "      <th>Route_link</th>\n",
       "      <th>Route_name</th>\n",
       "      <th>State</th>\n",
       "    </tr>\n",
       "  </thead>\n",
       "  <tbody>\n",
       "    <tr>\n",
       "      <th>0</th>\n",
       "      <td>APSARA BUS SERVICE</td>\n",
       "      <td>Non AC Seater (2+2)</td>\n",
       "      <td>08:40</td>\n",
       "      <td>13:15</td>\n",
       "      <td>04h 35m</td>\n",
       "      <td>INR 500</td>\n",
       "      <td>26 Seats available</td>\n",
       "      <td>New</td>\n",
       "      <td>https://www.redbus.in/bus-tickets/gangtok-to-s...</td>\n",
       "      <td>Gangtok to Siliguri</td>\n",
       "      <td>Sikkim</td>\n",
       "    </tr>\n",
       "    <tr>\n",
       "      <th>1</th>\n",
       "      <td>APSARA BUS SERVICE</td>\n",
       "      <td>Non AC Seater (2+2)</td>\n",
       "      <td>09:00</td>\n",
       "      <td>12:55</td>\n",
       "      <td>03h 55m</td>\n",
       "      <td>INR 500</td>\n",
       "      <td>28 Seats available</td>\n",
       "      <td>New</td>\n",
       "      <td>https://www.redbus.in/bus-tickets/gangtok-to-s...</td>\n",
       "      <td>Gangtok to Siliguri</td>\n",
       "      <td>Sikkim</td>\n",
       "    </tr>\n",
       "    <tr>\n",
       "      <th>2</th>\n",
       "      <td>APSARA BUS SERVICE</td>\n",
       "      <td>Non AC Seater (2+2)</td>\n",
       "      <td>10:50</td>\n",
       "      <td>15:20</td>\n",
       "      <td>04h 30m</td>\n",
       "      <td>INR 500</td>\n",
       "      <td>28 Seats available</td>\n",
       "      <td>1.4\\n4</td>\n",
       "      <td>https://www.redbus.in/bus-tickets/gangtok-to-s...</td>\n",
       "      <td>Gangtok to Siliguri</td>\n",
       "      <td>Sikkim</td>\n",
       "    </tr>\n",
       "    <tr>\n",
       "      <th>3</th>\n",
       "      <td>APSARA BUS SERVICE</td>\n",
       "      <td>Non AC Seater (2+2)</td>\n",
       "      <td>12:30</td>\n",
       "      <td>17:00</td>\n",
       "      <td>04h 30m</td>\n",
       "      <td>INR 500</td>\n",
       "      <td>27 Seats available</td>\n",
       "      <td>New</td>\n",
       "      <td>https://www.redbus.in/bus-tickets/gangtok-to-s...</td>\n",
       "      <td>Gangtok to Siliguri</td>\n",
       "      <td>Sikkim</td>\n",
       "    </tr>\n",
       "    <tr>\n",
       "      <th>4</th>\n",
       "      <td>APSARA BUS SERVICE</td>\n",
       "      <td>Non AC Seater (2+2)</td>\n",
       "      <td>14:00</td>\n",
       "      <td>18:35</td>\n",
       "      <td>04h 35m</td>\n",
       "      <td>INR 500</td>\n",
       "      <td>28 Seats available</td>\n",
       "      <td>New</td>\n",
       "      <td>https://www.redbus.in/bus-tickets/gangtok-to-s...</td>\n",
       "      <td>Gangtok to Siliguri</td>\n",
       "      <td>Sikkim</td>\n",
       "    </tr>\n",
       "    <tr>\n",
       "      <th>...</th>\n",
       "      <td>...</td>\n",
       "      <td>...</td>\n",
       "      <td>...</td>\n",
       "      <td>...</td>\n",
       "      <td>...</td>\n",
       "      <td>...</td>\n",
       "      <td>...</td>\n",
       "      <td>...</td>\n",
       "      <td>...</td>\n",
       "      <td>...</td>\n",
       "      <td>...</td>\n",
       "    </tr>\n",
       "    <tr>\n",
       "      <th>5363</th>\n",
       "      <td>Meghalaya Transport Corporation(MTC) - 163370</td>\n",
       "      <td>Tata Non A/C Seater Executive Luxury (2+2)</td>\n",
       "      <td>17:00</td>\n",
       "      <td>04:00</td>\n",
       "      <td>11h 00m</td>\n",
       "      <td>INR 581</td>\n",
       "      <td>14 Seats available</td>\n",
       "      <td>3.0\\n62</td>\n",
       "      <td>https://www.redbus.in/bus-tickets/williamnagar...</td>\n",
       "      <td>Williamnagar (Meghalaya) to Shillong</td>\n",
       "      <td>Megalaya</td>\n",
       "    </tr>\n",
       "    <tr>\n",
       "      <th>5364</th>\n",
       "      <td>Meghalaya Transport Corporation(MTC) - 163369</td>\n",
       "      <td>Tata Non A/C Seater Executive Luxury (2+2)</td>\n",
       "      <td>19:15</td>\n",
       "      <td>04:30</td>\n",
       "      <td>09h 15m</td>\n",
       "      <td>INR 384</td>\n",
       "      <td>28 Seats available</td>\n",
       "      <td>3.7\\n40</td>\n",
       "      <td>https://www.redbus.in/bus-tickets/shillong-to-...</td>\n",
       "      <td>Shillong to Hailakandi</td>\n",
       "      <td>Megalaya</td>\n",
       "    </tr>\n",
       "    <tr>\n",
       "      <th>5365</th>\n",
       "      <td>AR Travels</td>\n",
       "      <td>Non AC Seater (2+2)</td>\n",
       "      <td>21:20</td>\n",
       "      <td>05:50</td>\n",
       "      <td>08h 30m</td>\n",
       "      <td>INR 550</td>\n",
       "      <td>40 Seats available</td>\n",
       "      <td>1.7</td>\n",
       "      <td>https://www.redbus.in/bus-tickets/shillong-to-...</td>\n",
       "      <td>Shillong to Hailakandi</td>\n",
       "      <td>Megalaya</td>\n",
       "    </tr>\n",
       "    <tr>\n",
       "      <th>5366</th>\n",
       "      <td>Meghalaya Transport Corporation(MTC) - 163369</td>\n",
       "      <td>Tata Non A/C Seater Executive Luxury (2+2)</td>\n",
       "      <td>19:15</td>\n",
       "      <td>05:30</td>\n",
       "      <td>10h 15m</td>\n",
       "      <td>INR 425</td>\n",
       "      <td>32 Seats available</td>\n",
       "      <td>3.5\\n34</td>\n",
       "      <td>https://www.redbus.in/bus-tickets/shillong-to-...</td>\n",
       "      <td>Shillong to Ramkrishnanagar</td>\n",
       "      <td>Megalaya</td>\n",
       "    </tr>\n",
       "    <tr>\n",
       "      <th>5367</th>\n",
       "      <td>AR Travels</td>\n",
       "      <td>Non AC Seater (2+2)</td>\n",
       "      <td>17:30</td>\n",
       "      <td>04:30</td>\n",
       "      <td>11h 00m</td>\n",
       "      <td>450</td>\n",
       "      <td>34 Seats available</td>\n",
       "      <td>1.7</td>\n",
       "      <td>https://www.redbus.in/bus-tickets/hailakandi-t...</td>\n",
       "      <td>Hailakandi to Shillong</td>\n",
       "      <td>Megalaya</td>\n",
       "    </tr>\n",
       "  </tbody>\n",
       "</table>\n",
       "<p>5368 rows × 11 columns</p>\n",
       "</div>"
      ],
      "text/plain": [
       "                                           Bus_name  \\\n",
       "0                                APSARA BUS SERVICE   \n",
       "1                                APSARA BUS SERVICE   \n",
       "2                                APSARA BUS SERVICE   \n",
       "3                                APSARA BUS SERVICE   \n",
       "4                                APSARA BUS SERVICE   \n",
       "...                                             ...   \n",
       "5363  Meghalaya Transport Corporation(MTC) - 163370   \n",
       "5364  Meghalaya Transport Corporation(MTC) - 163369   \n",
       "5365                                     AR Travels   \n",
       "5366  Meghalaya Transport Corporation(MTC) - 163369   \n",
       "5367                                     AR Travels   \n",
       "\n",
       "                                        Bus_type Start_time End_time  \\\n",
       "0                            Non AC Seater (2+2)      08:40    13:15   \n",
       "1                            Non AC Seater (2+2)      09:00    12:55   \n",
       "2                            Non AC Seater (2+2)      10:50    15:20   \n",
       "3                            Non AC Seater (2+2)      12:30    17:00   \n",
       "4                            Non AC Seater (2+2)      14:00    18:35   \n",
       "...                                          ...        ...      ...   \n",
       "5363  Tata Non A/C Seater Executive Luxury (2+2)      17:00    04:00   \n",
       "5364  Tata Non A/C Seater Executive Luxury (2+2)      19:15    04:30   \n",
       "5365                         Non AC Seater (2+2)      21:20    05:50   \n",
       "5366  Tata Non A/C Seater Executive Luxury (2+2)      19:15    05:30   \n",
       "5367                         Non AC Seater (2+2)      17:30    04:30   \n",
       "\n",
       "     Total_duration    Price     Seats_Available  Ratings  \\\n",
       "0           04h 35m  INR 500  26 Seats available      New   \n",
       "1           03h 55m  INR 500  28 Seats available      New   \n",
       "2           04h 30m  INR 500  28 Seats available   1.4\\n4   \n",
       "3           04h 30m  INR 500  27 Seats available      New   \n",
       "4           04h 35m  INR 500  28 Seats available      New   \n",
       "...             ...      ...                 ...      ...   \n",
       "5363        11h 00m  INR 581  14 Seats available  3.0\\n62   \n",
       "5364        09h 15m  INR 384  28 Seats available  3.7\\n40   \n",
       "5365        08h 30m  INR 550  40 Seats available      1.7   \n",
       "5366        10h 15m  INR 425  32 Seats available  3.5\\n34   \n",
       "5367        11h 00m      450  34 Seats available      1.7   \n",
       "\n",
       "                                             Route_link  \\\n",
       "0     https://www.redbus.in/bus-tickets/gangtok-to-s...   \n",
       "1     https://www.redbus.in/bus-tickets/gangtok-to-s...   \n",
       "2     https://www.redbus.in/bus-tickets/gangtok-to-s...   \n",
       "3     https://www.redbus.in/bus-tickets/gangtok-to-s...   \n",
       "4     https://www.redbus.in/bus-tickets/gangtok-to-s...   \n",
       "...                                                 ...   \n",
       "5363  https://www.redbus.in/bus-tickets/williamnagar...   \n",
       "5364  https://www.redbus.in/bus-tickets/shillong-to-...   \n",
       "5365  https://www.redbus.in/bus-tickets/shillong-to-...   \n",
       "5366  https://www.redbus.in/bus-tickets/shillong-to-...   \n",
       "5367  https://www.redbus.in/bus-tickets/hailakandi-t...   \n",
       "\n",
       "                                Route_name     State  \n",
       "0                      Gangtok to Siliguri    Sikkim  \n",
       "1                      Gangtok to Siliguri    Sikkim  \n",
       "2                      Gangtok to Siliguri    Sikkim  \n",
       "3                      Gangtok to Siliguri    Sikkim  \n",
       "4                      Gangtok to Siliguri    Sikkim  \n",
       "...                                    ...       ...  \n",
       "5363  Williamnagar (Meghalaya) to Shillong  Megalaya  \n",
       "5364                Shillong to Hailakandi  Megalaya  \n",
       "5365                Shillong to Hailakandi  Megalaya  \n",
       "5366           Shillong to Ramkrishnanagar  Megalaya  \n",
       "5367                Hailakandi to Shillong  Megalaya  \n",
       "\n",
       "[5368 rows x 11 columns]"
      ]
     },
     "execution_count": 5,
     "metadata": {},
     "output_type": "execute_result"
    }
   ],
   "source": [
    "# read the csv file\n",
    "df=pd.read_csv(\"final_details_to_csv.csv\")\n",
    "df"
   ]
  },
  {
   "cell_type": "code",
   "execution_count": 25,
   "id": "3824a462-1ab6-4875-8d7b-aba03f95ade3",
   "metadata": {},
   "outputs": [
    {
     "name": "stdout",
     "output_type": "stream",
     "text": [
      "<class 'pandas.core.frame.DataFrame'>\n",
      "RangeIndex: 5368 entries, 0 to 5367\n",
      "Data columns (total 11 columns):\n",
      " #   Column           Non-Null Count  Dtype \n",
      "---  ------           --------------  ----- \n",
      " 0   Bus_name         5368 non-null   object\n",
      " 1   Bus_type         5368 non-null   object\n",
      " 2   Start_time       5368 non-null   object\n",
      " 3   End_time         5368 non-null   object\n",
      " 4   Total_duration   5368 non-null   object\n",
      " 5   Price            5368 non-null   object\n",
      " 6   Seats_Available  5368 non-null   object\n",
      " 7   Ratings          5368 non-null   object\n",
      " 8   Route_link       5368 non-null   object\n",
      " 9   Route_name       5368 non-null   object\n",
      " 10  State            5368 non-null   object\n",
      "dtypes: object(11)\n",
      "memory usage: 461.4+ KB\n"
     ]
    }
   ],
   "source": [
    "#Check is any null value available\n",
    "df.info()"
   ]
  },
  {
   "cell_type": "code",
   "execution_count": 27,
   "id": "3f460a2b-e429-4dd3-b06c-37f2bffd61fc",
   "metadata": {},
   "outputs": [
    {
     "data": {
      "text/plain": [
       "3"
      ]
     },
     "execution_count": 27,
     "metadata": {},
     "output_type": "execute_result"
    }
   ],
   "source": [
    "#Check number of duplicate row\n",
    "df.duplicated().sum()"
   ]
  },
  {
   "cell_type": "code",
   "execution_count": 29,
   "id": "80fb8ed4-7e3b-4e6d-be4f-c687818ee0ae",
   "metadata": {},
   "outputs": [
    {
     "data": {
      "text/plain": [
       "0       500.0\n",
       "1       500.0\n",
       "2       500.0\n",
       "3       500.0\n",
       "4       500.0\n",
       "        ...  \n",
       "5363    581.0\n",
       "5364    384.0\n",
       "5365    550.0\n",
       "5366    425.0\n",
       "5367    450.0\n",
       "Name: Price, Length: 5368, dtype: float64"
      ]
     },
     "execution_count": 29,
     "metadata": {},
     "output_type": "execute_result"
    }
   ],
   "source": [
    "#convert prices to numeric\n",
    "df[\"Price\"]=df[\"Price\"].str.replace(\"INR\",\"\")\n",
    "df[\"Price\"]=df[\"Price\"].astype(float)\n",
    "df[\"Price\"].fillna(0) "
   ]
  },
  {
   "cell_type": "code",
   "execution_count": 37,
   "id": "0df03575-f776-4bfd-9eb4-0ddd86c63f40",
   "metadata": {},
   "outputs": [],
   "source": [
    "#convert Ratings to numeric\n",
    "df[\"Ratings\"]=df[\"Ratings\"].str.replace(\"New\",\"\")\n",
    "df[\"Ratings\"]=df[\"Ratings\"].str.strip()\n",
    "df[\"Ratings\"]=df[\"Ratings\"].str.split().str[0]\n",
    "df[\"Ratings\"] = pd.to_numeric(df[\"Ratings\"], errors='coerce')\n",
    "#df[\"Ratings\"].fillna(0,inplace=True) \n",
    "df.fillna({\"Ratings\": 0}, inplace=True)"
   ]
  },
  {
   "cell_type": "code",
   "execution_count": 39,
   "id": "9172bce0-3df4-4cf1-89d7-48858c533e5c",
   "metadata": {},
   "outputs": [
    {
     "data": {
      "text/plain": [
       "0       0.0\n",
       "1       0.0\n",
       "2       1.4\n",
       "3       0.0\n",
       "4       0.0\n",
       "       ... \n",
       "5363    3.0\n",
       "5364    3.7\n",
       "5365    1.7\n",
       "5366    3.5\n",
       "5367    1.7\n",
       "Name: Ratings, Length: 5368, dtype: float64"
      ]
     },
     "execution_count": 39,
     "metadata": {},
     "output_type": "execute_result"
    }
   ],
   "source": [
    "df[\"Ratings\"]"
   ]
  },
  {
   "cell_type": "code",
   "execution_count": 41,
   "id": "7dd31443-539f-4b3c-93e4-b59d52cf18bb",
   "metadata": {},
   "outputs": [
    {
     "name": "stdout",
     "output_type": "stream",
     "text": [
      "<class 'pandas.core.frame.DataFrame'>\n",
      "RangeIndex: 5368 entries, 0 to 5367\n",
      "Data columns (total 11 columns):\n",
      " #   Column           Non-Null Count  Dtype  \n",
      "---  ------           --------------  -----  \n",
      " 0   Bus_name         5368 non-null   object \n",
      " 1   Bus_type         5368 non-null   object \n",
      " 2   Start_time       5368 non-null   object \n",
      " 3   End_time         5368 non-null   object \n",
      " 4   Total_duration   5368 non-null   object \n",
      " 5   Price            5368 non-null   float64\n",
      " 6   Seats_Available  5368 non-null   object \n",
      " 7   Ratings          5368 non-null   float64\n",
      " 8   Route_link       5368 non-null   object \n",
      " 9   Route_name       5368 non-null   object \n",
      " 10  State            5368 non-null   object \n",
      "dtypes: float64(2), object(9)\n",
      "memory usage: 461.4+ KB\n"
     ]
    }
   ],
   "source": [
    "df.info()"
   ]
  },
  {
   "cell_type": "code",
   "execution_count": 47,
   "id": "480b9176-648c-4c03-9df7-f10b2255db83",
   "metadata": {},
   "outputs": [],
   "source": [
    "# replacing the nan value\n",
    "df = df.replace({np.nan: None})"
   ]
  },
  {
   "cell_type": "code",
   "execution_count": 52,
   "id": "7816a2ac-d620-4f64-9fb2-a3d25f85bf7e",
   "metadata": {},
   "outputs": [],
   "source": [
    "# Convert dataframe to CSV\n",
    "path=r\"final_busdetails.csv\"\n",
    "df.to_csv(path,index=False)"
   ]
  },
  {
   "cell_type": "markdown",
   "id": "22c7705c-ab67-4bdd-93ca-f3a256c775ce",
   "metadata": {},
   "source": [
    "### Create Mysql Database and store data"
   ]
  },
  {
   "cell_type": "code",
   "execution_count": 78,
   "id": "e0d8e982-5e52-4aca-8575-d1a3460bb7a9",
   "metadata": {},
   "outputs": [],
   "source": [
    "conn=mysql.connector.connect(host=\"localhost\", user=\"root\", password=\"Rn@9867908494\")\n",
    "my_cursor = conn.cursor()\n",
    "my_cursor.execute(\"CREATE DATABASE IF NOT EXISTS RED_Final_BUS_DETAILS\")"
   ]
  },
  {
   "cell_type": "code",
   "execution_count": 80,
   "id": "94b46027-0625-4f31-999e-1994d47012cb",
   "metadata": {},
   "outputs": [],
   "source": [
    "my_cursor.execute(\"USE RED_Final_BUS_DETAILS\")"
   ]
  },
  {
   "cell_type": "code",
   "execution_count": 82,
   "id": "33a1207d-195a-42e6-a019-b96b9462648e",
   "metadata": {},
   "outputs": [
    {
     "name": "stdout",
     "output_type": "stream",
     "text": [
      "Table Created successfully\n"
     ]
    }
   ],
   "source": [
    "# Table Creation\n",
    "my_cursor.execute('''CREATE TABLE IF NOT EXISTS bus_details(\n",
    "                  ID INT AUTO_INCREMENT PRIMARY KEY,\n",
    "                  Bus_name VARCHAR(255) NOT NULL,\n",
    "                  Bus_type VARCHAR(255) NOT NULL,\n",
    "                  Start_time VARCHAR(255) NOT NULL,\n",
    "                  End_time VARCHAR(255) NOT NULL,\n",
    "                  Total_duration VARCHAR(255) NOT NULL,\n",
    "                  Price FLOAT NULL,\n",
    "                  Seats_Available VARCHAR(255) NOT NULL,\n",
    "                  Ratings Float NULL,\n",
    "                  Route_link VARCHAR(255) NULL,\n",
    "                  Route_name VARCHAR(255) NULL,\n",
    "                  State VARCHAR(255) NULL\n",
    "                  )''')\n",
    "print(\"Table Created successfully\")"
   ]
  },
  {
   "cell_type": "code",
   "execution_count": 84,
   "id": "8a960d4b-e112-469e-8c46-f6d7cc1080f3",
   "metadata": {},
   "outputs": [
    {
     "name": "stdout",
     "output_type": "stream",
     "text": [
      "Values inserted successfully\n"
     ]
    }
   ],
   "source": [
    "# SQL query to insert data into bus_details table\n",
    "insert_query = '''INSERT INTO bus_details(\n",
    "                    Bus_name,\n",
    "                    Bus_type,\n",
    "                    Start_time,\n",
    "                    End_time,\n",
    "                    Total_duration,\n",
    "                    Price,\n",
    "                    Seats_Available,\n",
    "                    Ratings,\n",
    "                    Route_link,\n",
    "                    Route_name,\n",
    "                    State)\n",
    "                  VALUES(%s, %s, %s, %s, %s, %s, %s, %s, %s, %s, %s)'''\n",
    "data = df.values.tolist()\n",
    "\n",
    "my_cursor.executemany(insert_query, data)\n",
    "\n",
    "conn.commit()\n",
    "\n",
    "print(\"Values inserted successfully\")"
   ]
  }
 ],
 "metadata": {
  "kernelspec": {
   "display_name": "Python 3 (ipykernel)",
   "language": "python",
   "name": "python3"
  },
  "language_info": {
   "codemirror_mode": {
    "name": "ipython",
    "version": 3
   },
   "file_extension": ".py",
   "mimetype": "text/x-python",
   "name": "python",
   "nbconvert_exporter": "python",
   "pygments_lexer": "ipython3",
   "version": "3.12.4"
  }
 },
 "nbformat": 4,
 "nbformat_minor": 5
}
